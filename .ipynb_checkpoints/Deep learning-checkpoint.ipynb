{
 "cells": [
  {
   "cell_type": "code",
   "execution_count": 1,
   "metadata": {
    "ExecuteTime": {
     "end_time": "2018-06-09T07:08:38.561613Z",
     "start_time": "2018-06-09T07:08:28.053332Z"
    }
   },
   "outputs": [],
   "source": [
    "%load_ext autoreload\n",
    "%autoreload 2\n",
    "\n",
    "%matplotlib inline"
   ]
  },
  {
   "cell_type": "code",
   "execution_count": 4,
   "metadata": {
    "ExecuteTime": {
     "end_time": "2018-06-09T07:09:48.906880Z",
     "start_time": "2018-06-09T07:09:48.640971Z"
    }
   },
   "outputs": [],
   "source": [
    "from fastai.structured import *\n",
    "from fastai.column_data import *\n",
    "np.set_printoptions(threshold=50, edgeitems=20)"
   ]
  },
  {
   "cell_type": "code",
   "execution_count": 10,
   "metadata": {
    "ExecuteTime": {
     "end_time": "2018-06-09T07:10:38.458709Z",
     "start_time": "2018-06-09T07:10:38.132900Z"
    }
   },
   "outputs": [
    {
     "name": "stdout",
     "output_type": "stream",
     "text": [
      " Volume in drive E has no label.\n",
      " Volume Serial Number is 3AE1-9EE0\n",
      "\n",
      " Directory of E:\\Code\\Datadriven\\data\n",
      "\n",
      "03-05-2018  15:32    <DIR>          .\n",
      "03-05-2018  15:32    <DIR>          ..\n",
      "03-05-2018  15:34    <DIR>          .ipynb_checkpoints\n",
      "01-05-2018  10:19           324,512 SubmissionFormat.csv\n",
      "01-05-2018  10:19         5,016,337 testx.csv\n",
      "01-05-2018  10:19        20,069,199 trainx.csv\n",
      "01-05-2018  10:19         1,148,327 trainy.csv\n",
      "               4 File(s)     26,558,375 bytes\n",
      "               3 Dir(s)  275,238,252,544 bytes free\n"
     ]
    }
   ],
   "source": [
    "ls data"
   ]
  },
  {
   "cell_type": "code",
   "execution_count": 6,
   "metadata": {
    "ExecuteTime": {
     "end_time": "2018-06-09T07:09:57.525409Z",
     "start_time": "2018-06-09T07:09:57.193116Z"
    }
   },
   "outputs": [],
   "source": [
    "PATH = 'data/'"
   ]
  },
  {
   "cell_type": "code",
   "execution_count": 31,
   "metadata": {
    "ExecuteTime": {
     "end_time": "2018-06-09T07:20:52.032398Z",
     "start_time": "2018-06-09T07:20:50.964987Z"
    }
   },
   "outputs": [],
   "source": [
    "trainx = pd.read_csv(f'{PATH}trainx.csv')\n",
    "trainy = pd.read_csv(f'{PATH}trainy.csv')\n",
    "trainy = pd.read_csv(f'{PATH}test.csv')"
   ]
  },
  {
   "cell_type": "code",
   "execution_count": 10,
   "metadata": {
    "ExecuteTime": {
     "end_time": "2018-05-13T11:15:14.636739Z",
     "start_time": "2018-05-13T11:15:13.808531Z"
    }
   },
   "outputs": [],
   "source": [
    "df_raw = pd.concat([train_x,test],axis=0)"
   ]
  },
  {
   "cell_type": "code",
   "execution_count": 11,
   "metadata": {
    "ExecuteTime": {
     "end_time": "2018-05-13T11:15:17.313420Z",
     "start_time": "2018-05-13T11:15:15.386930Z"
    }
   },
   "outputs": [],
   "source": [
    "add_datepart(df_raw, 'date_recorded')"
   ]
  },
  {
   "cell_type": "code",
   "execution_count": 12,
   "metadata": {
    "ExecuteTime": {
     "end_time": "2018-05-13T11:15:20.327185Z",
     "start_time": "2018-05-13T11:15:18.345683Z"
    }
   },
   "outputs": [],
   "source": [
    "train_cats(df_raw)"
   ]
  },
  {
   "cell_type": "code",
   "execution_count": 13,
   "metadata": {
    "ExecuteTime": {
     "end_time": "2018-05-13T11:15:22.561759Z",
     "start_time": "2018-05-13T11:15:22.123641Z"
    }
   },
   "outputs": [],
   "source": [
    "def func(data):\n",
    "    if data=='functional':\n",
    "        return 0\n",
    "    elif data=='non functional':\n",
    "        return 1 \n",
    "    elif data=='functional needs repair':\n",
    "        return 2"
   ]
  },
  {
   "cell_type": "code",
   "execution_count": 14,
   "metadata": {
    "ExecuteTime": {
     "end_time": "2018-05-13T11:15:23.700042Z",
     "start_time": "2018-05-13T11:15:23.136900Z"
    }
   },
   "outputs": [],
   "source": [
    "y = train_y.status_group.apply(func)"
   ]
  },
  {
   "cell_type": "code",
   "execution_count": 15,
   "metadata": {
    "ExecuteTime": {
     "end_time": "2018-05-13T11:15:25.848589Z",
     "start_time": "2018-05-13T11:15:25.271440Z"
    }
   },
   "outputs": [],
   "source": [
    "z = pd.DataFrame(np.zeros((14850,)))\n",
    "y = pd.concat([y,z],axis=0)"
   ]
  },
  {
   "cell_type": "code",
   "execution_count": 16,
   "metadata": {
    "ExecuteTime": {
     "end_time": "2018-05-13T11:15:27.815156Z",
     "start_time": "2018-05-13T11:15:27.315967Z"
    }
   },
   "outputs": [],
   "source": [
    "df_raw['status_group'] = y.astype(int)"
   ]
  },
  {
   "cell_type": "code",
   "execution_count": 17,
   "metadata": {
    "ExecuteTime": {
     "end_time": "2018-05-13T11:15:51.893629Z",
     "start_time": "2018-05-13T11:15:51.570510Z"
    }
   },
   "outputs": [
    {
     "data": {
      "text/plain": [
       "(74250, 53)"
      ]
     },
     "execution_count": 17,
     "metadata": {},
     "output_type": "execute_result"
    }
   ],
   "source": [
    "df_raw.shape"
   ]
  },
  {
   "cell_type": "code",
   "execution_count": 23,
   "metadata": {
    "ExecuteTime": {
     "end_time": "2018-05-13T11:17:40.862204Z",
     "start_time": "2018-05-13T11:17:40.541119Z"
    }
   },
   "outputs": [],
   "source": [
    "imp = ['quantity','longitude','latitude','waterpoint_type','id','wpt_name','subvillage','construction_year',\n",
    " 'gps_height','ward','funder','date_recordedElapsed','date_recordedDayofyear','extraction_type_class','population',\n",
    " 'date_recordedDay','amount_tsh','lga','installer', 'scheme_name','date_recordedDayofweek', 'payment','source',\n",
    " 'extraction_type','region','district_code','management','payment_type','region_code','status_group']"
   ]
  },
  {
   "cell_type": "code",
   "execution_count": 24,
   "metadata": {
    "ExecuteTime": {
     "end_time": "2018-05-13T11:17:41.569403Z",
     "start_time": "2018-05-13T11:17:41.246211Z"
    }
   },
   "outputs": [],
   "source": [
    "df_ = df_raw[imp]"
   ]
  },
  {
   "cell_type": "code",
   "execution_count": 36,
   "metadata": {
    "ExecuteTime": {
     "end_time": "2018-05-13T11:40:56.238999Z",
     "start_time": "2018-05-13T11:40:55.616716Z"
    }
   },
   "outputs": [],
   "source": [
    "df,y,nas = proc_df(df_,'status_group',max_n_cat=12)"
   ]
  },
  {
   "cell_type": "code",
   "execution_count": 37,
   "metadata": {
    "ExecuteTime": {
     "end_time": "2018-05-13T11:40:57.794964Z",
     "start_time": "2018-05-13T11:40:57.504890Z"
    }
   },
   "outputs": [
    {
     "data": {
      "text/plain": [
       "(74250, 72)"
      ]
     },
     "execution_count": 37,
     "metadata": {},
     "output_type": "execute_result"
    }
   ],
   "source": [
    "df.shape"
   ]
  },
  {
   "cell_type": "code",
   "execution_count": 38,
   "metadata": {
    "ExecuteTime": {
     "end_time": "2018-05-13T11:41:01.995184Z",
     "start_time": "2018-05-13T11:41:01.658166Z"
    }
   },
   "outputs": [],
   "source": [
    "def split_vals(a,n):\n",
    "    return a[:n].copy(), a[n:].copy()"
   ]
  },
  {
   "cell_type": "code",
   "execution_count": 39,
   "metadata": {
    "ExecuteTime": {
     "end_time": "2018-05-13T11:41:02.465282Z",
     "start_time": "2018-05-13T11:41:02.096185Z"
    }
   },
   "outputs": [],
   "source": [
    "n_valid = 14850 # same as the size of test set\n",
    "n_trn = len(df)- n_valid\n",
    "x_train, x_test = split_vals(df,n_trn)\n",
    "y_train, y_test = split_vals(y, n_trn)"
   ]
  },
  {
   "cell_type": "code",
   "execution_count": 40,
   "metadata": {
    "ExecuteTime": {
     "end_time": "2018-05-13T11:41:03.232403Z",
     "start_time": "2018-05-13T11:41:02.940314Z"
    }
   },
   "outputs": [
    {
     "data": {
      "text/plain": [
       "(59400, 72)"
      ]
     },
     "execution_count": 40,
     "metadata": {},
     "output_type": "execute_result"
    }
   ],
   "source": [
    "x_train.shape"
   ]
  },
  {
   "cell_type": "code",
   "execution_count": null,
   "metadata": {},
   "outputs": [],
   "source": []
  }
 ],
 "metadata": {
  "kernelspec": {
   "display_name": "Python 3",
   "language": "python",
   "name": "python3"
  },
  "language_info": {
   "codemirror_mode": {
    "name": "ipython",
    "version": 3
   },
   "file_extension": ".py",
   "mimetype": "text/x-python",
   "name": "python",
   "nbconvert_exporter": "python",
   "pygments_lexer": "ipython3",
   "version": "3.6.5"
  }
 },
 "nbformat": 4,
 "nbformat_minor": 2
}
