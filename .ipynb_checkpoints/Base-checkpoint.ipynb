{
 "cells": [
  {
   "cell_type": "markdown",
   "metadata": {},
   "source": [
    "# Building Base Model"
   ]
  },
  {
   "cell_type": "markdown",
   "metadata": {},
   "source": [
    "### Imports"
   ]
  },
  {
   "cell_type": "code",
   "execution_count": 1,
   "metadata": {
    "ExecuteTime": {
     "end_time": "2018-05-13T10:53:15.236066Z",
     "start_time": "2018-05-13T10:53:05.850430Z"
    }
   },
   "outputs": [],
   "source": [
    "%load_ext autoreload\n",
    "%autoreload 2\n",
    "\n",
    "%matplotlib inline"
   ]
  },
  {
   "cell_type": "code",
   "execution_count": 2,
   "metadata": {
    "ExecuteTime": {
     "end_time": "2018-05-13T10:53:21.882624Z",
     "start_time": "2018-05-13T10:53:15.242063Z"
    }
   },
   "outputs": [],
   "source": [
    "import numpy as np\n",
    "import pandas as pd"
   ]
  },
  {
   "cell_type": "code",
   "execution_count": 3,
   "metadata": {
    "ExecuteTime": {
     "end_time": "2018-05-13T10:53:34.080384Z",
     "start_time": "2018-05-13T10:53:21.889511Z"
    }
   },
   "outputs": [],
   "source": [
    "import xgboost as xgb"
   ]
  },
  {
   "cell_type": "code",
   "execution_count": 4,
   "metadata": {
    "ExecuteTime": {
     "end_time": "2018-05-13T10:53:35.836402Z",
     "start_time": "2018-05-13T10:53:34.085281Z"
    }
   },
   "outputs": [],
   "source": [
    "from sklearn.ensemble import RandomForestRegressor, RandomForestClassifier"
   ]
  },
  {
   "cell_type": "code",
   "execution_count": 5,
   "metadata": {
    "ExecuteTime": {
     "end_time": "2018-05-13T10:53:40.047675Z",
     "start_time": "2018-05-13T10:53:35.842404Z"
    }
   },
   "outputs": [],
   "source": [
    "%matplotlib inline\n",
    "\n",
    "from imports import *\n",
    "from structured import *"
   ]
  },
  {
   "cell_type": "code",
   "execution_count": 6,
   "metadata": {
    "ExecuteTime": {
     "end_time": "2018-05-13T10:53:40.348867Z",
     "start_time": "2018-05-13T10:53:40.053805Z"
    }
   },
   "outputs": [],
   "source": [
    "from sklearn.metrics import accuracy_score\n",
    "from scipy.cluster import hierarchy as hc"
   ]
  },
  {
   "cell_type": "code",
   "execution_count": 7,
   "metadata": {
    "ExecuteTime": {
     "end_time": "2018-05-13T10:53:43.518263Z",
     "start_time": "2018-05-13T10:53:40.353749Z"
    }
   },
   "outputs": [],
   "source": [
    "PATH = 'data/'\n",
    "\n",
    "\n",
    "train_x = pd.read_csv(PATH+'trainx.csv')\n",
    "train_y = pd.read_csv(PATH+'trainy.csv')\n",
    "test = pd.read_csv(PATH+'testx.csv')"
   ]
  },
  {
   "cell_type": "code",
   "execution_count": 8,
   "metadata": {
    "ExecuteTime": {
     "end_time": "2018-05-13T10:53:43.823337Z",
     "start_time": "2018-05-13T10:53:43.526263Z"
    }
   },
   "outputs": [
    {
     "data": {
      "text/plain": [
       "(59400, 40)"
      ]
     },
     "execution_count": 8,
     "metadata": {},
     "output_type": "execute_result"
    }
   ],
   "source": [
    "train_x.shape"
   ]
  },
  {
   "cell_type": "code",
   "execution_count": 9,
   "metadata": {
    "ExecuteTime": {
     "end_time": "2018-05-13T10:53:44.168427Z",
     "start_time": "2018-05-13T10:53:43.831340Z"
    }
   },
   "outputs": [
    {
     "data": {
      "text/plain": [
       "(14850, 40)"
      ]
     },
     "execution_count": 9,
     "metadata": {},
     "output_type": "execute_result"
    }
   ],
   "source": [
    "test.shape"
   ]
  },
  {
   "cell_type": "markdown",
   "metadata": {
    "heading_collapsed": true
   },
   "source": [
    "### Exploration"
   ]
  },
  {
   "cell_type": "markdown",
   "metadata": {
    "hidden": true
   },
   "source": [
    "**[ALERT]Jump to the TEST portion for trying out final model**"
   ]
  },
  {
   "cell_type": "code",
   "execution_count": 69,
   "metadata": {
    "ExecuteTime": {
     "end_time": "2018-05-03T14:12:11.757634Z",
     "start_time": "2018-05-03T14:12:11.433769Z"
    },
    "collapsed": true,
    "hidden": true
   },
   "outputs": [
    {
     "data": {
      "text/html": [
       "<div>\n",
       "<style scoped>\n",
       "    .dataframe tbody tr th:only-of-type {\n",
       "        vertical-align: middle;\n",
       "    }\n",
       "\n",
       "    .dataframe tbody tr th {\n",
       "        vertical-align: top;\n",
       "    }\n",
       "\n",
       "    .dataframe thead th {\n",
       "        text-align: right;\n",
       "    }\n",
       "</style>\n",
       "<table border=\"1\" class=\"dataframe\">\n",
       "  <thead>\n",
       "    <tr style=\"text-align: right;\">\n",
       "      <th></th>\n",
       "      <th>0</th>\n",
       "      <th>1</th>\n",
       "      <th>2</th>\n",
       "      <th>3</th>\n",
       "      <th>4</th>\n",
       "    </tr>\n",
       "  </thead>\n",
       "  <tbody>\n",
       "    <tr>\n",
       "      <th>id</th>\n",
       "      <td>69572</td>\n",
       "      <td>8776</td>\n",
       "      <td>34310</td>\n",
       "      <td>67743</td>\n",
       "      <td>19728</td>\n",
       "    </tr>\n",
       "    <tr>\n",
       "      <th>amount_tsh</th>\n",
       "      <td>6000</td>\n",
       "      <td>0</td>\n",
       "      <td>25</td>\n",
       "      <td>0</td>\n",
       "      <td>0</td>\n",
       "    </tr>\n",
       "    <tr>\n",
       "      <th>funder</th>\n",
       "      <td>Roman</td>\n",
       "      <td>Grumeti</td>\n",
       "      <td>Lottery Club</td>\n",
       "      <td>Unicef</td>\n",
       "      <td>Action In A</td>\n",
       "    </tr>\n",
       "    <tr>\n",
       "      <th>gps_height</th>\n",
       "      <td>1390</td>\n",
       "      <td>1399</td>\n",
       "      <td>686</td>\n",
       "      <td>263</td>\n",
       "      <td>0</td>\n",
       "    </tr>\n",
       "    <tr>\n",
       "      <th>installer</th>\n",
       "      <td>Roman</td>\n",
       "      <td>GRUMETI</td>\n",
       "      <td>World vision</td>\n",
       "      <td>UNICEF</td>\n",
       "      <td>Artisan</td>\n",
       "    </tr>\n",
       "    <tr>\n",
       "      <th>longitude</th>\n",
       "      <td>34.9381</td>\n",
       "      <td>34.6988</td>\n",
       "      <td>37.4607</td>\n",
       "      <td>38.4862</td>\n",
       "      <td>31.1308</td>\n",
       "    </tr>\n",
       "    <tr>\n",
       "      <th>latitude</th>\n",
       "      <td>-9.85632</td>\n",
       "      <td>-2.14747</td>\n",
       "      <td>-3.82133</td>\n",
       "      <td>-11.1553</td>\n",
       "      <td>-1.82536</td>\n",
       "    </tr>\n",
       "    <tr>\n",
       "      <th>wpt_name</th>\n",
       "      <td>none</td>\n",
       "      <td>Zahanati</td>\n",
       "      <td>Kwa Mahundi</td>\n",
       "      <td>Zahanati Ya Nanyumbu</td>\n",
       "      <td>Shuleni</td>\n",
       "    </tr>\n",
       "    <tr>\n",
       "      <th>num_private</th>\n",
       "      <td>0</td>\n",
       "      <td>0</td>\n",
       "      <td>0</td>\n",
       "      <td>0</td>\n",
       "      <td>0</td>\n",
       "    </tr>\n",
       "    <tr>\n",
       "      <th>basin</th>\n",
       "      <td>Lake Nyasa</td>\n",
       "      <td>Lake Victoria</td>\n",
       "      <td>Pangani</td>\n",
       "      <td>Ruvuma / Southern Coast</td>\n",
       "      <td>Lake Victoria</td>\n",
       "    </tr>\n",
       "    <tr>\n",
       "      <th>subvillage</th>\n",
       "      <td>Mnyusi B</td>\n",
       "      <td>Nyamara</td>\n",
       "      <td>Majengo</td>\n",
       "      <td>Mahakamani</td>\n",
       "      <td>Kyanyamisa</td>\n",
       "    </tr>\n",
       "    <tr>\n",
       "      <th>region</th>\n",
       "      <td>Iringa</td>\n",
       "      <td>Mara</td>\n",
       "      <td>Manyara</td>\n",
       "      <td>Mtwara</td>\n",
       "      <td>Kagera</td>\n",
       "    </tr>\n",
       "    <tr>\n",
       "      <th>region_code</th>\n",
       "      <td>11</td>\n",
       "      <td>20</td>\n",
       "      <td>21</td>\n",
       "      <td>90</td>\n",
       "      <td>18</td>\n",
       "    </tr>\n",
       "    <tr>\n",
       "      <th>district_code</th>\n",
       "      <td>5</td>\n",
       "      <td>2</td>\n",
       "      <td>4</td>\n",
       "      <td>63</td>\n",
       "      <td>1</td>\n",
       "    </tr>\n",
       "    <tr>\n",
       "      <th>lga</th>\n",
       "      <td>Ludewa</td>\n",
       "      <td>Serengeti</td>\n",
       "      <td>Simanjiro</td>\n",
       "      <td>Nanyumbu</td>\n",
       "      <td>Karagwe</td>\n",
       "    </tr>\n",
       "    <tr>\n",
       "      <th>ward</th>\n",
       "      <td>Mundindi</td>\n",
       "      <td>Natta</td>\n",
       "      <td>Ngorika</td>\n",
       "      <td>Nanyumbu</td>\n",
       "      <td>Nyakasimbi</td>\n",
       "    </tr>\n",
       "    <tr>\n",
       "      <th>population</th>\n",
       "      <td>109</td>\n",
       "      <td>280</td>\n",
       "      <td>250</td>\n",
       "      <td>58</td>\n",
       "      <td>0</td>\n",
       "    </tr>\n",
       "    <tr>\n",
       "      <th>public_meeting</th>\n",
       "      <td>True</td>\n",
       "      <td>NaN</td>\n",
       "      <td>True</td>\n",
       "      <td>True</td>\n",
       "      <td>True</td>\n",
       "    </tr>\n",
       "    <tr>\n",
       "      <th>recorded_by</th>\n",
       "      <td>GeoData Consultants Ltd</td>\n",
       "      <td>GeoData Consultants Ltd</td>\n",
       "      <td>GeoData Consultants Ltd</td>\n",
       "      <td>GeoData Consultants Ltd</td>\n",
       "      <td>GeoData Consultants Ltd</td>\n",
       "    </tr>\n",
       "    <tr>\n",
       "      <th>scheme_management</th>\n",
       "      <td>VWC</td>\n",
       "      <td>Other</td>\n",
       "      <td>VWC</td>\n",
       "      <td>VWC</td>\n",
       "      <td>NaN</td>\n",
       "    </tr>\n",
       "    <tr>\n",
       "      <th>scheme_name</th>\n",
       "      <td>Roman</td>\n",
       "      <td>NaN</td>\n",
       "      <td>Nyumba ya mungu pipe scheme</td>\n",
       "      <td>NaN</td>\n",
       "      <td>NaN</td>\n",
       "    </tr>\n",
       "    <tr>\n",
       "      <th>permit</th>\n",
       "      <td>False</td>\n",
       "      <td>True</td>\n",
       "      <td>True</td>\n",
       "      <td>True</td>\n",
       "      <td>True</td>\n",
       "    </tr>\n",
       "    <tr>\n",
       "      <th>construction_year</th>\n",
       "      <td>1999</td>\n",
       "      <td>2010</td>\n",
       "      <td>2009</td>\n",
       "      <td>1986</td>\n",
       "      <td>0</td>\n",
       "    </tr>\n",
       "    <tr>\n",
       "      <th>extraction_type</th>\n",
       "      <td>gravity</td>\n",
       "      <td>gravity</td>\n",
       "      <td>gravity</td>\n",
       "      <td>submersible</td>\n",
       "      <td>gravity</td>\n",
       "    </tr>\n",
       "    <tr>\n",
       "      <th>extraction_type_group</th>\n",
       "      <td>gravity</td>\n",
       "      <td>gravity</td>\n",
       "      <td>gravity</td>\n",
       "      <td>submersible</td>\n",
       "      <td>gravity</td>\n",
       "    </tr>\n",
       "    <tr>\n",
       "      <th>extraction_type_class</th>\n",
       "      <td>gravity</td>\n",
       "      <td>gravity</td>\n",
       "      <td>gravity</td>\n",
       "      <td>submersible</td>\n",
       "      <td>gravity</td>\n",
       "    </tr>\n",
       "    <tr>\n",
       "      <th>management</th>\n",
       "      <td>vwc</td>\n",
       "      <td>wug</td>\n",
       "      <td>vwc</td>\n",
       "      <td>vwc</td>\n",
       "      <td>other</td>\n",
       "    </tr>\n",
       "    <tr>\n",
       "      <th>management_group</th>\n",
       "      <td>user-group</td>\n",
       "      <td>user-group</td>\n",
       "      <td>user-group</td>\n",
       "      <td>user-group</td>\n",
       "      <td>other</td>\n",
       "    </tr>\n",
       "    <tr>\n",
       "      <th>payment</th>\n",
       "      <td>pay annually</td>\n",
       "      <td>never pay</td>\n",
       "      <td>pay per bucket</td>\n",
       "      <td>never pay</td>\n",
       "      <td>never pay</td>\n",
       "    </tr>\n",
       "    <tr>\n",
       "      <th>payment_type</th>\n",
       "      <td>annually</td>\n",
       "      <td>never pay</td>\n",
       "      <td>per bucket</td>\n",
       "      <td>never pay</td>\n",
       "      <td>never pay</td>\n",
       "    </tr>\n",
       "    <tr>\n",
       "      <th>water_quality</th>\n",
       "      <td>soft</td>\n",
       "      <td>soft</td>\n",
       "      <td>soft</td>\n",
       "      <td>soft</td>\n",
       "      <td>soft</td>\n",
       "    </tr>\n",
       "    <tr>\n",
       "      <th>quality_group</th>\n",
       "      <td>good</td>\n",
       "      <td>good</td>\n",
       "      <td>good</td>\n",
       "      <td>good</td>\n",
       "      <td>good</td>\n",
       "    </tr>\n",
       "    <tr>\n",
       "      <th>quantity</th>\n",
       "      <td>enough</td>\n",
       "      <td>insufficient</td>\n",
       "      <td>enough</td>\n",
       "      <td>dry</td>\n",
       "      <td>seasonal</td>\n",
       "    </tr>\n",
       "    <tr>\n",
       "      <th>quantity_group</th>\n",
       "      <td>enough</td>\n",
       "      <td>insufficient</td>\n",
       "      <td>enough</td>\n",
       "      <td>dry</td>\n",
       "      <td>seasonal</td>\n",
       "    </tr>\n",
       "    <tr>\n",
       "      <th>source</th>\n",
       "      <td>spring</td>\n",
       "      <td>rainwater harvesting</td>\n",
       "      <td>dam</td>\n",
       "      <td>machine dbh</td>\n",
       "      <td>rainwater harvesting</td>\n",
       "    </tr>\n",
       "    <tr>\n",
       "      <th>source_type</th>\n",
       "      <td>spring</td>\n",
       "      <td>rainwater harvesting</td>\n",
       "      <td>dam</td>\n",
       "      <td>borehole</td>\n",
       "      <td>rainwater harvesting</td>\n",
       "    </tr>\n",
       "    <tr>\n",
       "      <th>source_class</th>\n",
       "      <td>groundwater</td>\n",
       "      <td>surface</td>\n",
       "      <td>surface</td>\n",
       "      <td>groundwater</td>\n",
       "      <td>surface</td>\n",
       "    </tr>\n",
       "    <tr>\n",
       "      <th>waterpoint_type</th>\n",
       "      <td>communal standpipe</td>\n",
       "      <td>communal standpipe</td>\n",
       "      <td>communal standpipe multiple</td>\n",
       "      <td>communal standpipe multiple</td>\n",
       "      <td>communal standpipe</td>\n",
       "    </tr>\n",
       "    <tr>\n",
       "      <th>waterpoint_type_group</th>\n",
       "      <td>communal standpipe</td>\n",
       "      <td>communal standpipe</td>\n",
       "      <td>communal standpipe</td>\n",
       "      <td>communal standpipe</td>\n",
       "      <td>communal standpipe</td>\n",
       "    </tr>\n",
       "    <tr>\n",
       "      <th>date_recordedYear</th>\n",
       "      <td>2011</td>\n",
       "      <td>2013</td>\n",
       "      <td>2013</td>\n",
       "      <td>2013</td>\n",
       "      <td>2011</td>\n",
       "    </tr>\n",
       "    <tr>\n",
       "      <th>date_recordedMonth</th>\n",
       "      <td>3</td>\n",
       "      <td>3</td>\n",
       "      <td>2</td>\n",
       "      <td>1</td>\n",
       "      <td>7</td>\n",
       "    </tr>\n",
       "    <tr>\n",
       "      <th>date_recordedWeek</th>\n",
       "      <td>11</td>\n",
       "      <td>10</td>\n",
       "      <td>9</td>\n",
       "      <td>5</td>\n",
       "      <td>28</td>\n",
       "    </tr>\n",
       "    <tr>\n",
       "      <th>date_recordedDay</th>\n",
       "      <td>14</td>\n",
       "      <td>6</td>\n",
       "      <td>25</td>\n",
       "      <td>28</td>\n",
       "      <td>13</td>\n",
       "    </tr>\n",
       "    <tr>\n",
       "      <th>date_recordedDayofweek</th>\n",
       "      <td>0</td>\n",
       "      <td>2</td>\n",
       "      <td>0</td>\n",
       "      <td>0</td>\n",
       "      <td>2</td>\n",
       "    </tr>\n",
       "    <tr>\n",
       "      <th>date_recordedDayofyear</th>\n",
       "      <td>73</td>\n",
       "      <td>65</td>\n",
       "      <td>56</td>\n",
       "      <td>28</td>\n",
       "      <td>194</td>\n",
       "    </tr>\n",
       "    <tr>\n",
       "      <th>date_recordedIs_month_end</th>\n",
       "      <td>False</td>\n",
       "      <td>False</td>\n",
       "      <td>False</td>\n",
       "      <td>False</td>\n",
       "      <td>False</td>\n",
       "    </tr>\n",
       "    <tr>\n",
       "      <th>date_recordedIs_month_start</th>\n",
       "      <td>False</td>\n",
       "      <td>False</td>\n",
       "      <td>False</td>\n",
       "      <td>False</td>\n",
       "      <td>False</td>\n",
       "    </tr>\n",
       "    <tr>\n",
       "      <th>date_recordedIs_quarter_end</th>\n",
       "      <td>False</td>\n",
       "      <td>False</td>\n",
       "      <td>False</td>\n",
       "      <td>False</td>\n",
       "      <td>False</td>\n",
       "    </tr>\n",
       "    <tr>\n",
       "      <th>date_recordedIs_quarter_start</th>\n",
       "      <td>False</td>\n",
       "      <td>False</td>\n",
       "      <td>False</td>\n",
       "      <td>False</td>\n",
       "      <td>False</td>\n",
       "    </tr>\n",
       "    <tr>\n",
       "      <th>date_recordedIs_year_end</th>\n",
       "      <td>False</td>\n",
       "      <td>False</td>\n",
       "      <td>False</td>\n",
       "      <td>False</td>\n",
       "      <td>False</td>\n",
       "    </tr>\n",
       "    <tr>\n",
       "      <th>date_recordedIs_year_start</th>\n",
       "      <td>False</td>\n",
       "      <td>False</td>\n",
       "      <td>False</td>\n",
       "      <td>False</td>\n",
       "      <td>False</td>\n",
       "    </tr>\n",
       "    <tr>\n",
       "      <th>date_recordedElapsed</th>\n",
       "      <td>1300060800</td>\n",
       "      <td>1362528000</td>\n",
       "      <td>1361750400</td>\n",
       "      <td>1359331200</td>\n",
       "      <td>1310515200</td>\n",
       "    </tr>\n",
       "    <tr>\n",
       "      <th>status_group</th>\n",
       "      <td>0</td>\n",
       "      <td>0</td>\n",
       "      <td>0</td>\n",
       "      <td>1</td>\n",
       "      <td>0</td>\n",
       "    </tr>\n",
       "  </tbody>\n",
       "</table>\n",
       "</div>"
      ],
      "text/plain": [
       "                                                     0  \\\n",
       "id                                               69572   \n",
       "amount_tsh                                        6000   \n",
       "funder                                           Roman   \n",
       "gps_height                                        1390   \n",
       "installer                                        Roman   \n",
       "longitude                                      34.9381   \n",
       "latitude                                      -9.85632   \n",
       "wpt_name                                          none   \n",
       "num_private                                          0   \n",
       "basin                                       Lake Nyasa   \n",
       "subvillage                                    Mnyusi B   \n",
       "region                                          Iringa   \n",
       "region_code                                         11   \n",
       "district_code                                        5   \n",
       "lga                                             Ludewa   \n",
       "ward                                          Mundindi   \n",
       "population                                         109   \n",
       "public_meeting                                    True   \n",
       "recorded_by                    GeoData Consultants Ltd   \n",
       "scheme_management                                  VWC   \n",
       "scheme_name                                      Roman   \n",
       "permit                                           False   \n",
       "construction_year                                 1999   \n",
       "extraction_type                                gravity   \n",
       "extraction_type_group                          gravity   \n",
       "extraction_type_class                          gravity   \n",
       "management                                         vwc   \n",
       "management_group                            user-group   \n",
       "payment                                   pay annually   \n",
       "payment_type                                  annually   \n",
       "water_quality                                     soft   \n",
       "quality_group                                     good   \n",
       "quantity                                        enough   \n",
       "quantity_group                                  enough   \n",
       "source                                          spring   \n",
       "source_type                                     spring   \n",
       "source_class                               groundwater   \n",
       "waterpoint_type                     communal standpipe   \n",
       "waterpoint_type_group               communal standpipe   \n",
       "date_recordedYear                                 2011   \n",
       "date_recordedMonth                                   3   \n",
       "date_recordedWeek                                   11   \n",
       "date_recordedDay                                    14   \n",
       "date_recordedDayofweek                               0   \n",
       "date_recordedDayofyear                              73   \n",
       "date_recordedIs_month_end                        False   \n",
       "date_recordedIs_month_start                      False   \n",
       "date_recordedIs_quarter_end                      False   \n",
       "date_recordedIs_quarter_start                    False   \n",
       "date_recordedIs_year_end                         False   \n",
       "date_recordedIs_year_start                       False   \n",
       "date_recordedElapsed                        1300060800   \n",
       "status_group                                         0   \n",
       "\n",
       "                                                     1  \\\n",
       "id                                                8776   \n",
       "amount_tsh                                           0   \n",
       "funder                                         Grumeti   \n",
       "gps_height                                        1399   \n",
       "installer                                      GRUMETI   \n",
       "longitude                                      34.6988   \n",
       "latitude                                      -2.14747   \n",
       "wpt_name                                      Zahanati   \n",
       "num_private                                          0   \n",
       "basin                                    Lake Victoria   \n",
       "subvillage                                     Nyamara   \n",
       "region                                            Mara   \n",
       "region_code                                         20   \n",
       "district_code                                        2   \n",
       "lga                                          Serengeti   \n",
       "ward                                             Natta   \n",
       "population                                         280   \n",
       "public_meeting                                     NaN   \n",
       "recorded_by                    GeoData Consultants Ltd   \n",
       "scheme_management                                Other   \n",
       "scheme_name                                        NaN   \n",
       "permit                                            True   \n",
       "construction_year                                 2010   \n",
       "extraction_type                                gravity   \n",
       "extraction_type_group                          gravity   \n",
       "extraction_type_class                          gravity   \n",
       "management                                         wug   \n",
       "management_group                            user-group   \n",
       "payment                                      never pay   \n",
       "payment_type                                 never pay   \n",
       "water_quality                                     soft   \n",
       "quality_group                                     good   \n",
       "quantity                                  insufficient   \n",
       "quantity_group                            insufficient   \n",
       "source                            rainwater harvesting   \n",
       "source_type                       rainwater harvesting   \n",
       "source_class                                   surface   \n",
       "waterpoint_type                     communal standpipe   \n",
       "waterpoint_type_group               communal standpipe   \n",
       "date_recordedYear                                 2013   \n",
       "date_recordedMonth                                   3   \n",
       "date_recordedWeek                                   10   \n",
       "date_recordedDay                                     6   \n",
       "date_recordedDayofweek                               2   \n",
       "date_recordedDayofyear                              65   \n",
       "date_recordedIs_month_end                        False   \n",
       "date_recordedIs_month_start                      False   \n",
       "date_recordedIs_quarter_end                      False   \n",
       "date_recordedIs_quarter_start                    False   \n",
       "date_recordedIs_year_end                         False   \n",
       "date_recordedIs_year_start                       False   \n",
       "date_recordedElapsed                        1362528000   \n",
       "status_group                                         0   \n",
       "\n",
       "                                                         2  \\\n",
       "id                                                   34310   \n",
       "amount_tsh                                              25   \n",
       "funder                                        Lottery Club   \n",
       "gps_height                                             686   \n",
       "installer                                     World vision   \n",
       "longitude                                          37.4607   \n",
       "latitude                                          -3.82133   \n",
       "wpt_name                                       Kwa Mahundi   \n",
       "num_private                                              0   \n",
       "basin                                              Pangani   \n",
       "subvillage                                         Majengo   \n",
       "region                                             Manyara   \n",
       "region_code                                             21   \n",
       "district_code                                            4   \n",
       "lga                                              Simanjiro   \n",
       "ward                                               Ngorika   \n",
       "population                                             250   \n",
       "public_meeting                                        True   \n",
       "recorded_by                        GeoData Consultants Ltd   \n",
       "scheme_management                                      VWC   \n",
       "scheme_name                    Nyumba ya mungu pipe scheme   \n",
       "permit                                                True   \n",
       "construction_year                                     2009   \n",
       "extraction_type                                    gravity   \n",
       "extraction_type_group                              gravity   \n",
       "extraction_type_class                              gravity   \n",
       "management                                             vwc   \n",
       "management_group                                user-group   \n",
       "payment                                     pay per bucket   \n",
       "payment_type                                    per bucket   \n",
       "water_quality                                         soft   \n",
       "quality_group                                         good   \n",
       "quantity                                            enough   \n",
       "quantity_group                                      enough   \n",
       "source                                                 dam   \n",
       "source_type                                            dam   \n",
       "source_class                                       surface   \n",
       "waterpoint_type                communal standpipe multiple   \n",
       "waterpoint_type_group                   communal standpipe   \n",
       "date_recordedYear                                     2013   \n",
       "date_recordedMonth                                       2   \n",
       "date_recordedWeek                                        9   \n",
       "date_recordedDay                                        25   \n",
       "date_recordedDayofweek                                   0   \n",
       "date_recordedDayofyear                                  56   \n",
       "date_recordedIs_month_end                            False   \n",
       "date_recordedIs_month_start                          False   \n",
       "date_recordedIs_quarter_end                          False   \n",
       "date_recordedIs_quarter_start                        False   \n",
       "date_recordedIs_year_end                             False   \n",
       "date_recordedIs_year_start                           False   \n",
       "date_recordedElapsed                            1361750400   \n",
       "status_group                                             0   \n",
       "\n",
       "                                                         3  \\\n",
       "id                                                   67743   \n",
       "amount_tsh                                               0   \n",
       "funder                                              Unicef   \n",
       "gps_height                                             263   \n",
       "installer                                           UNICEF   \n",
       "longitude                                          38.4862   \n",
       "latitude                                          -11.1553   \n",
       "wpt_name                              Zahanati Ya Nanyumbu   \n",
       "num_private                                              0   \n",
       "basin                              Ruvuma / Southern Coast   \n",
       "subvillage                                      Mahakamani   \n",
       "region                                              Mtwara   \n",
       "region_code                                             90   \n",
       "district_code                                           63   \n",
       "lga                                               Nanyumbu   \n",
       "ward                                              Nanyumbu   \n",
       "population                                              58   \n",
       "public_meeting                                        True   \n",
       "recorded_by                        GeoData Consultants Ltd   \n",
       "scheme_management                                      VWC   \n",
       "scheme_name                                            NaN   \n",
       "permit                                                True   \n",
       "construction_year                                     1986   \n",
       "extraction_type                                submersible   \n",
       "extraction_type_group                          submersible   \n",
       "extraction_type_class                          submersible   \n",
       "management                                             vwc   \n",
       "management_group                                user-group   \n",
       "payment                                          never pay   \n",
       "payment_type                                     never pay   \n",
       "water_quality                                         soft   \n",
       "quality_group                                         good   \n",
       "quantity                                               dry   \n",
       "quantity_group                                         dry   \n",
       "source                                         machine dbh   \n",
       "source_type                                       borehole   \n",
       "source_class                                   groundwater   \n",
       "waterpoint_type                communal standpipe multiple   \n",
       "waterpoint_type_group                   communal standpipe   \n",
       "date_recordedYear                                     2013   \n",
       "date_recordedMonth                                       1   \n",
       "date_recordedWeek                                        5   \n",
       "date_recordedDay                                        28   \n",
       "date_recordedDayofweek                                   0   \n",
       "date_recordedDayofyear                                  28   \n",
       "date_recordedIs_month_end                            False   \n",
       "date_recordedIs_month_start                          False   \n",
       "date_recordedIs_quarter_end                          False   \n",
       "date_recordedIs_quarter_start                        False   \n",
       "date_recordedIs_year_end                             False   \n",
       "date_recordedIs_year_start                           False   \n",
       "date_recordedElapsed                            1359331200   \n",
       "status_group                                             1   \n",
       "\n",
       "                                                     4  \n",
       "id                                               19728  \n",
       "amount_tsh                                           0  \n",
       "funder                                     Action In A  \n",
       "gps_height                                           0  \n",
       "installer                                      Artisan  \n",
       "longitude                                      31.1308  \n",
       "latitude                                      -1.82536  \n",
       "wpt_name                                       Shuleni  \n",
       "num_private                                          0  \n",
       "basin                                    Lake Victoria  \n",
       "subvillage                                  Kyanyamisa  \n",
       "region                                          Kagera  \n",
       "region_code                                         18  \n",
       "district_code                                        1  \n",
       "lga                                            Karagwe  \n",
       "ward                                        Nyakasimbi  \n",
       "population                                           0  \n",
       "public_meeting                                    True  \n",
       "recorded_by                    GeoData Consultants Ltd  \n",
       "scheme_management                                  NaN  \n",
       "scheme_name                                        NaN  \n",
       "permit                                            True  \n",
       "construction_year                                    0  \n",
       "extraction_type                                gravity  \n",
       "extraction_type_group                          gravity  \n",
       "extraction_type_class                          gravity  \n",
       "management                                       other  \n",
       "management_group                                 other  \n",
       "payment                                      never pay  \n",
       "payment_type                                 never pay  \n",
       "water_quality                                     soft  \n",
       "quality_group                                     good  \n",
       "quantity                                      seasonal  \n",
       "quantity_group                                seasonal  \n",
       "source                            rainwater harvesting  \n",
       "source_type                       rainwater harvesting  \n",
       "source_class                                   surface  \n",
       "waterpoint_type                     communal standpipe  \n",
       "waterpoint_type_group               communal standpipe  \n",
       "date_recordedYear                                 2011  \n",
       "date_recordedMonth                                   7  \n",
       "date_recordedWeek                                   28  \n",
       "date_recordedDay                                    13  \n",
       "date_recordedDayofweek                               2  \n",
       "date_recordedDayofyear                             194  \n",
       "date_recordedIs_month_end                        False  \n",
       "date_recordedIs_month_start                      False  \n",
       "date_recordedIs_quarter_end                      False  \n",
       "date_recordedIs_quarter_start                    False  \n",
       "date_recordedIs_year_end                         False  \n",
       "date_recordedIs_year_start                       False  \n",
       "date_recordedElapsed                        1310515200  \n",
       "status_group                                         0  "
      ]
     },
     "execution_count": 69,
     "metadata": {},
     "output_type": "execute_result"
    }
   ],
   "source": [
    "train_x.head().T"
   ]
  },
  {
   "cell_type": "markdown",
   "metadata": {
    "hidden": true
   },
   "source": [
    "#### Short cut to train and val dataset"
   ]
  },
  {
   "cell_type": "code",
   "execution_count": 9,
   "metadata": {
    "ExecuteTime": {
     "end_time": "2018-05-05T06:47:55.645198Z",
     "start_time": "2018-05-05T06:47:54.344161Z"
    },
    "hidden": true
   },
   "outputs": [],
   "source": [
    "add_datepart(train_x, 'date_recorded')"
   ]
  },
  {
   "cell_type": "code",
   "execution_count": 10,
   "metadata": {
    "ExecuteTime": {
     "end_time": "2018-05-05T06:47:56.815625Z",
     "start_time": "2018-05-05T06:47:55.645198Z"
    },
    "hidden": true
   },
   "outputs": [],
   "source": [
    "train_cats(train_x)"
   ]
  },
  {
   "cell_type": "code",
   "execution_count": 11,
   "metadata": {
    "ExecuteTime": {
     "end_time": "2018-05-05T06:47:57.377307Z",
     "start_time": "2018-05-05T06:47:57.091528Z"
    },
    "hidden": true
   },
   "outputs": [],
   "source": [
    "def func(data):\n",
    "    if data=='functional':\n",
    "        return 0\n",
    "    elif data=='non functional':\n",
    "        return 1 \n",
    "    elif data=='functional needs repair':\n",
    "        return 2"
   ]
  },
  {
   "cell_type": "code",
   "execution_count": 12,
   "metadata": {
    "ExecuteTime": {
     "end_time": "2018-05-05T06:47:58.302124Z",
     "start_time": "2018-05-05T06:47:57.922013Z"
    },
    "hidden": true
   },
   "outputs": [],
   "source": [
    "y = train_y.status_group.apply(func)"
   ]
  },
  {
   "cell_type": "code",
   "execution_count": 13,
   "metadata": {
    "ExecuteTime": {
     "end_time": "2018-05-05T06:47:59.302948Z",
     "start_time": "2018-05-05T06:47:58.966958Z"
    },
    "hidden": true
   },
   "outputs": [],
   "source": [
    "train_x['status_group'] = y"
   ]
  },
  {
   "cell_type": "code",
   "execution_count": 55,
   "metadata": {
    "ExecuteTime": {
     "end_time": "2018-05-05T07:43:24.618628Z",
     "start_time": "2018-05-05T07:43:24.142501Z"
    },
    "hidden": true
   },
   "outputs": [],
   "source": [
    "df,y,nas = proc_df(train_x,'status_group')"
   ]
  },
  {
   "cell_type": "code",
   "execution_count": 56,
   "metadata": {
    "ExecuteTime": {
     "end_time": "2018-05-05T07:43:25.266709Z",
     "start_time": "2018-05-05T07:43:24.954630Z"
    },
    "hidden": true
   },
   "outputs": [],
   "source": [
    "def split_vals(a,n):\n",
    "    return a[:n].copy(), a[n:].copy()"
   ]
  },
  {
   "cell_type": "code",
   "execution_count": 57,
   "metadata": {
    "ExecuteTime": {
     "end_time": "2018-05-05T07:43:25.560904Z",
     "start_time": "2018-05-05T07:43:25.271708Z"
    },
    "hidden": true
   },
   "outputs": [],
   "source": [
    "n_valid = 17850 # same as the size of test set\n",
    "n_trn = len(df)- n_valid\n",
    "x_train, x_val = split_vals(df,n_trn)\n",
    "y_train, y_val = split_vals(y, n_trn)"
   ]
  },
  {
   "cell_type": "markdown",
   "metadata": {
    "heading_collapsed": true
   },
   "source": [
    "## Random Forest"
   ]
  },
  {
   "cell_type": "markdown",
   "metadata": {
    "hidden": true
   },
   "source": [
    "#### Whole Data"
   ]
  },
  {
   "cell_type": "code",
   "execution_count": 59,
   "metadata": {
    "ExecuteTime": {
     "end_time": "2018-05-05T07:43:35.493491Z",
     "start_time": "2018-05-05T07:43:33.928123Z"
    },
    "hidden": true
   },
   "outputs": [
    {
     "name": "stdout",
     "output_type": "stream",
     "text": [
      "Wall time: 1.05 s\n"
     ]
    },
    {
     "data": {
      "text/plain": [
       "0.7961904761904762"
      ]
     },
     "execution_count": 59,
     "metadata": {},
     "output_type": "execute_result"
    }
   ],
   "source": [
    "m = RandomForestClassifier(n_jobs=-1)\n",
    "%time m.fit(x_train, y_train)\n",
    "y_pred= m.predict(x_val)\n",
    "accuracy_score(y_val, y_pred)"
   ]
  },
  {
   "cell_type": "code",
   "execution_count": 19,
   "metadata": {
    "ExecuteTime": {
     "end_time": "2018-05-05T06:49:41.848739Z",
     "start_time": "2018-05-05T06:49:40.608069Z"
    },
    "hidden": true
   },
   "outputs": [],
   "source": [
    "preds = np.stack([t.predict(x_val) for t in m.estimators_])"
   ]
  },
  {
   "cell_type": "code",
   "execution_count": 40,
   "metadata": {
    "ExecuteTime": {
     "end_time": "2018-05-05T06:56:26.361428Z",
     "start_time": "2018-05-05T06:56:26.084278Z"
    },
    "hidden": true
   },
   "outputs": [],
   "source": [
    "x = x_val.copy()\n",
    "x['pred_std'] = np.std(preds,axis=0)\n",
    "x['pred'] = np.mean(preds,axis=0)"
   ]
  },
  {
   "cell_type": "code",
   "execution_count": 41,
   "metadata": {
    "ExecuteTime": {
     "end_time": "2018-05-05T06:56:31.267538Z",
     "start_time": "2018-05-05T06:56:30.953092Z"
    },
    "hidden": true
   },
   "outputs": [
    {
     "data": {
      "text/html": [
       "<div>\n",
       "<style scoped>\n",
       "    .dataframe tbody tr th:only-of-type {\n",
       "        vertical-align: middle;\n",
       "    }\n",
       "\n",
       "    .dataframe tbody tr th {\n",
       "        vertical-align: top;\n",
       "    }\n",
       "\n",
       "    .dataframe thead th {\n",
       "        text-align: right;\n",
       "    }\n",
       "</style>\n",
       "<table border=\"1\" class=\"dataframe\">\n",
       "  <thead>\n",
       "    <tr style=\"text-align: right;\">\n",
       "      <th></th>\n",
       "      <th>id</th>\n",
       "      <th>amount_tsh</th>\n",
       "      <th>funder</th>\n",
       "      <th>gps_height</th>\n",
       "      <th>installer</th>\n",
       "      <th>longitude</th>\n",
       "      <th>latitude</th>\n",
       "      <th>wpt_name</th>\n",
       "      <th>num_private</th>\n",
       "      <th>basin</th>\n",
       "      <th>...</th>\n",
       "      <th>date_recordedDayofyear</th>\n",
       "      <th>date_recordedIs_month_end</th>\n",
       "      <th>date_recordedIs_month_start</th>\n",
       "      <th>date_recordedIs_quarter_end</th>\n",
       "      <th>date_recordedIs_quarter_start</th>\n",
       "      <th>date_recordedIs_year_end</th>\n",
       "      <th>date_recordedIs_year_start</th>\n",
       "      <th>date_recordedElapsed</th>\n",
       "      <th>pred_std</th>\n",
       "      <th>pred</th>\n",
       "    </tr>\n",
       "  </thead>\n",
       "  <tbody>\n",
       "    <tr>\n",
       "      <th>41550</th>\n",
       "      <td>48018</td>\n",
       "      <td>600.0</td>\n",
       "      <td>589</td>\n",
       "      <td>828</td>\n",
       "      <td>391</td>\n",
       "      <td>29.743796</td>\n",
       "      <td>-4.900983</td>\n",
       "      <td>37196</td>\n",
       "      <td>0</td>\n",
       "      <td>4</td>\n",
       "      <td>...</td>\n",
       "      <td>28</td>\n",
       "      <td>False</td>\n",
       "      <td>False</td>\n",
       "      <td>False</td>\n",
       "      <td>False</td>\n",
       "      <td>False</td>\n",
       "      <td>False</td>\n",
       "      <td>1359331200</td>\n",
       "      <td>0.979796</td>\n",
       "      <td>0.8</td>\n",
       "    </tr>\n",
       "    <tr>\n",
       "      <th>41551</th>\n",
       "      <td>54314</td>\n",
       "      <td>0.0</td>\n",
       "      <td>1668</td>\n",
       "      <td>0</td>\n",
       "      <td>1825</td>\n",
       "      <td>33.326639</td>\n",
       "      <td>-3.027799</td>\n",
       "      <td>32194</td>\n",
       "      <td>0</td>\n",
       "      <td>5</td>\n",
       "      <td>...</td>\n",
       "      <td>213</td>\n",
       "      <td>False</td>\n",
       "      <td>True</td>\n",
       "      <td>False</td>\n",
       "      <td>False</td>\n",
       "      <td>False</td>\n",
       "      <td>False</td>\n",
       "      <td>1312156800</td>\n",
       "      <td>0.300000</td>\n",
       "      <td>0.1</td>\n",
       "    </tr>\n",
       "    <tr>\n",
       "      <th>41552</th>\n",
       "      <td>7540</td>\n",
       "      <td>0.0</td>\n",
       "      <td>303</td>\n",
       "      <td>0</td>\n",
       "      <td>426</td>\n",
       "      <td>32.530562</td>\n",
       "      <td>-4.928006</td>\n",
       "      <td>31322</td>\n",
       "      <td>0</td>\n",
       "      <td>4</td>\n",
       "      <td>...</td>\n",
       "      <td>287</td>\n",
       "      <td>False</td>\n",
       "      <td>False</td>\n",
       "      <td>False</td>\n",
       "      <td>False</td>\n",
       "      <td>False</td>\n",
       "      <td>False</td>\n",
       "      <td>1350086400</td>\n",
       "      <td>0.300000</td>\n",
       "      <td>0.9</td>\n",
       "    </tr>\n",
       "    <tr>\n",
       "      <th>41553</th>\n",
       "      <td>9301</td>\n",
       "      <td>500.0</td>\n",
       "      <td>23</td>\n",
       "      <td>822</td>\n",
       "      <td>391</td>\n",
       "      <td>31.935945</td>\n",
       "      <td>-8.069723</td>\n",
       "      <td>7284</td>\n",
       "      <td>0</td>\n",
       "      <td>3</td>\n",
       "      <td>...</td>\n",
       "      <td>223</td>\n",
       "      <td>False</td>\n",
       "      <td>False</td>\n",
       "      <td>False</td>\n",
       "      <td>False</td>\n",
       "      <td>False</td>\n",
       "      <td>False</td>\n",
       "      <td>1313020800</td>\n",
       "      <td>0.600000</td>\n",
       "      <td>0.2</td>\n",
       "    </tr>\n",
       "    <tr>\n",
       "      <th>41554</th>\n",
       "      <td>16412</td>\n",
       "      <td>20.0</td>\n",
       "      <td>1880</td>\n",
       "      <td>348</td>\n",
       "      <td>1978</td>\n",
       "      <td>38.243195</td>\n",
       "      <td>-6.081336</td>\n",
       "      <td>33735</td>\n",
       "      <td>0</td>\n",
       "      <td>9</td>\n",
       "      <td>...</td>\n",
       "      <td>67</td>\n",
       "      <td>False</td>\n",
       "      <td>False</td>\n",
       "      <td>False</td>\n",
       "      <td>False</td>\n",
       "      <td>False</td>\n",
       "      <td>False</td>\n",
       "      <td>1299542400</td>\n",
       "      <td>0.400000</td>\n",
       "      <td>0.2</td>\n",
       "    </tr>\n",
       "  </tbody>\n",
       "</table>\n",
       "<p>5 rows × 54 columns</p>\n",
       "</div>"
      ],
      "text/plain": [
       "          id  amount_tsh  funder  gps_height  installer  longitude  latitude  \\\n",
       "41550  48018       600.0     589         828        391  29.743796 -4.900983   \n",
       "41551  54314         0.0    1668           0       1825  33.326639 -3.027799   \n",
       "41552   7540         0.0     303           0        426  32.530562 -4.928006   \n",
       "41553   9301       500.0      23         822        391  31.935945 -8.069723   \n",
       "41554  16412        20.0    1880         348       1978  38.243195 -6.081336   \n",
       "\n",
       "       wpt_name  num_private  basin  ...   date_recordedDayofyear  \\\n",
       "41550     37196            0      4  ...                       28   \n",
       "41551     32194            0      5  ...                      213   \n",
       "41552     31322            0      4  ...                      287   \n",
       "41553      7284            0      3  ...                      223   \n",
       "41554     33735            0      9  ...                       67   \n",
       "\n",
       "       date_recordedIs_month_end  date_recordedIs_month_start  \\\n",
       "41550                      False                        False   \n",
       "41551                      False                         True   \n",
       "41552                      False                        False   \n",
       "41553                      False                        False   \n",
       "41554                      False                        False   \n",
       "\n",
       "       date_recordedIs_quarter_end  date_recordedIs_quarter_start  \\\n",
       "41550                        False                          False   \n",
       "41551                        False                          False   \n",
       "41552                        False                          False   \n",
       "41553                        False                          False   \n",
       "41554                        False                          False   \n",
       "\n",
       "       date_recordedIs_year_end  date_recordedIs_year_start  \\\n",
       "41550                     False                       False   \n",
       "41551                     False                       False   \n",
       "41552                     False                       False   \n",
       "41553                     False                       False   \n",
       "41554                     False                       False   \n",
       "\n",
       "       date_recordedElapsed  pred_std  pred  \n",
       "41550            1359331200  0.979796   0.8  \n",
       "41551            1312156800  0.300000   0.1  \n",
       "41552            1350086400  0.300000   0.9  \n",
       "41553            1313020800  0.600000   0.2  \n",
       "41554            1299542400  0.400000   0.2  \n",
       "\n",
       "[5 rows x 54 columns]"
      ]
     },
     "execution_count": 41,
     "metadata": {},
     "output_type": "execute_result"
    }
   ],
   "source": [
    "x.head() "
   ]
  },
  {
   "cell_type": "markdown",
   "metadata": {
    "heading_collapsed": true,
    "hidden": true
   },
   "source": [
    "#### One tree"
   ]
  },
  {
   "cell_type": "code",
   "execution_count": 32,
   "metadata": {
    "hidden": true
   },
   "outputs": [
    {
     "name": "stdout",
     "output_type": "stream",
     "text": [
      "Wall time: 360 ms\n"
     ]
    },
    {
     "data": {
      "text/plain": [
       "0.6418181818181818"
      ]
     },
     "execution_count": 32,
     "metadata": {},
     "output_type": "execute_result"
    }
   ],
   "source": [
    "m = RandomForestClassifier(n_estimators=1, max_depth=3, bootstrap=False,n_jobs=-1)\n",
    "%time m.fit(x_train, y_train)\n",
    "y_pred= m.predict(x_val)\n",
    "accuracy_score(y_val, y_pred)"
   ]
  },
  {
   "cell_type": "markdown",
   "metadata": {
    "heading_collapsed": true,
    "hidden": true
   },
   "source": [
    "#### 10 trees"
   ]
  },
  {
   "cell_type": "code",
   "execution_count": 34,
   "metadata": {
    "hidden": true
   },
   "outputs": [
    {
     "name": "stdout",
     "output_type": "stream",
     "text": [
      "Wall time: 1.53 s\n"
     ]
    },
    {
     "data": {
      "text/plain": [
       "0.8127946127946128"
      ]
     },
     "execution_count": 34,
     "metadata": {},
     "output_type": "execute_result"
    }
   ],
   "source": [
    "m = RandomForestClassifier(n_estimators=10, bootstrap=False,n_jobs=-1)\n",
    "%time m.fit(x_train, y_train)\n",
    "y_pred= m.predict(x_val)\n",
    "accuracy_score(y_val, y_pred)"
   ]
  },
  {
   "cell_type": "markdown",
   "metadata": {
    "heading_collapsed": true,
    "hidden": true
   },
   "source": [
    "#### 10 trees and max_depth to reduce overfitting"
   ]
  },
  {
   "cell_type": "code",
   "execution_count": 35,
   "metadata": {
    "hidden": true
   },
   "outputs": [
    {
     "name": "stdout",
     "output_type": "stream",
     "text": [
      "Wall time: 578 ms\n"
     ]
    },
    {
     "data": {
      "text/plain": [
       "0.724983164983165"
      ]
     },
     "execution_count": 35,
     "metadata": {},
     "output_type": "execute_result"
    }
   ],
   "source": [
    "m = RandomForestClassifier(n_estimators=10, max_depth=3,bootstrap=False,n_jobs=-1)\n",
    "%time m.fit(x_train, y_train)\n",
    "y_pred= m.predict(x_val)\n",
    "accuracy_score(y_val, y_pred)"
   ]
  },
  {
   "cell_type": "code",
   "execution_count": 37,
   "metadata": {
    "hidden": true
   },
   "outputs": [
    {
     "name": "stdout",
     "output_type": "stream",
     "text": [
      "Wall time: 580 ms\n"
     ]
    },
    {
     "data": {
      "text/plain": [
       "0.7542087542087542"
      ]
     },
     "execution_count": 37,
     "metadata": {},
     "output_type": "execute_result"
    }
   ],
   "source": [
    "m = RandomForestClassifier(n_estimators=1,n_jobs=-1)\n",
    "%time m.fit(x_train, y_train)\n",
    "y_pred= m.predict(x_val)\n",
    "accuracy_score(y_val, y_pred)"
   ]
  },
  {
   "cell_type": "code",
   "execution_count": 38,
   "metadata": {
    "hidden": true
   },
   "outputs": [
    {
     "name": "stdout",
     "output_type": "stream",
     "text": [
      "Wall time: 1.13 s\n"
     ]
    },
    {
     "data": {
      "text/plain": [
       "0.8113804713804714"
      ]
     },
     "execution_count": 38,
     "metadata": {},
     "output_type": "execute_result"
    }
   ],
   "source": [
    "m = RandomForestClassifier(n_estimators=10,n_jobs=-1)\n",
    "%time m.fit(x_train, y_train)\n",
    "y_pred= m.predict(x_val)\n",
    "accuracy_score(y_val, y_pred)"
   ]
  },
  {
   "cell_type": "code",
   "execution_count": 39,
   "metadata": {
    "hidden": true
   },
   "outputs": [
    {
     "name": "stdout",
     "output_type": "stream",
     "text": [
      "Wall time: 1.76 s\n"
     ]
    },
    {
     "data": {
      "text/plain": [
       "0.8205387205387206"
      ]
     },
     "execution_count": 39,
     "metadata": {},
     "output_type": "execute_result"
    }
   ],
   "source": [
    "m = RandomForestClassifier(n_estimators=20,n_jobs=-1)\n",
    "%time m.fit(x_train, y_train)\n",
    "y_pred= m.predict(x_val)\n",
    "accuracy_score(y_val, y_pred)"
   ]
  },
  {
   "cell_type": "code",
   "execution_count": 40,
   "metadata": {
    "hidden": true
   },
   "outputs": [
    {
     "name": "stdout",
     "output_type": "stream",
     "text": [
      "Wall time: 2.63 s\n"
     ]
    },
    {
     "data": {
      "text/plain": [
       "0.8255218855218855"
      ]
     },
     "execution_count": 40,
     "metadata": {},
     "output_type": "execute_result"
    }
   ],
   "source": [
    "m = RandomForestClassifier(n_estimators=30,n_jobs=-1)\n",
    "%time m.fit(x_train, y_train)\n",
    "y_pred= m.predict(x_val)\n",
    "accuracy_score(y_val, y_pred)"
   ]
  },
  {
   "cell_type": "code",
   "execution_count": 28,
   "metadata": {
    "ExecuteTime": {
     "end_time": "2018-05-01T14:05:15.813949Z",
     "start_time": "2018-05-01T14:05:12.300143Z"
    },
    "hidden": true
   },
   "outputs": [
    {
     "name": "stdout",
     "output_type": "stream",
     "text": [
      "Wall time: 3.19 s\n"
     ]
    },
    {
     "data": {
      "text/plain": [
       "0.8240336134453782"
      ]
     },
     "execution_count": 28,
     "metadata": {},
     "output_type": "execute_result"
    }
   ],
   "source": [
    "m = RandomForestClassifier(n_estimators=40,n_jobs=-1)\n",
    "%time m.fit(x_train, y_train)\n",
    "y_pred= m.predict(x_val)\n",
    "accuracy_score(y_val, y_pred)"
   ]
  },
  {
   "cell_type": "code",
   "execution_count": 42,
   "metadata": {
    "hidden": true
   },
   "outputs": [
    {
     "name": "stdout",
     "output_type": "stream",
     "text": [
      "Wall time: 4.11 s\n"
     ]
    },
    {
     "data": {
      "text/plain": [
       "0.8257239057239057"
      ]
     },
     "execution_count": 42,
     "metadata": {},
     "output_type": "execute_result"
    }
   ],
   "source": [
    "m = RandomForestClassifier(n_estimators=50,n_jobs=-1)\n",
    "%time m.fit(x_train, y_train)\n",
    "y_pred= m.predict(x_val)\n",
    "accuracy_score(y_val, y_pred)"
   ]
  },
  {
   "cell_type": "markdown",
   "metadata": {
    "heading_collapsed": true,
    "hidden": true
   },
   "source": [
    "##### Hence n_estimator= 40 is good parameter"
   ]
  },
  {
   "cell_type": "code",
   "execution_count": 43,
   "metadata": {
    "hidden": true
   },
   "outputs": [
    {
     "name": "stdout",
     "output_type": "stream",
     "text": [
      "Wall time: 3.29 s\n"
     ]
    },
    {
     "data": {
      "text/plain": [
       "0.8265993265993266"
      ]
     },
     "execution_count": 43,
     "metadata": {},
     "output_type": "execute_result"
    }
   ],
   "source": [
    "m = RandomForestClassifier(n_estimators=40,min_samples_leaf=3 ,n_jobs=-1)\n",
    "%time m.fit(x_train, y_train)\n",
    "y_pred= m.predict(x_val)\n",
    "accuracy_score(y_val, y_pred)"
   ]
  },
  {
   "cell_type": "code",
   "execution_count": 44,
   "metadata": {
    "hidden": true
   },
   "outputs": [
    {
     "name": "stdout",
     "output_type": "stream",
     "text": [
      "Wall time: 3.11 s\n"
     ]
    },
    {
     "data": {
      "text/plain": [
       "0.8263973063973064"
      ]
     },
     "execution_count": 44,
     "metadata": {},
     "output_type": "execute_result"
    }
   ],
   "source": [
    "m = RandomForestClassifier(n_estimators=40,min_samples_leaf=4 ,n_jobs=-1)\n",
    "%time m.fit(x_train, y_train)\n",
    "y_pred= m.predict(x_val)\n",
    "accuracy_score(y_val, y_pred)"
   ]
  },
  {
   "cell_type": "code",
   "execution_count": 45,
   "metadata": {
    "hidden": true
   },
   "outputs": [
    {
     "name": "stdout",
     "output_type": "stream",
     "text": [
      "Wall time: 3.31 s\n"
     ]
    },
    {
     "data": {
      "text/plain": [
       "0.8271380471380472"
      ]
     },
     "execution_count": 45,
     "metadata": {},
     "output_type": "execute_result"
    }
   ],
   "source": [
    "m = RandomForestClassifier(n_estimators=40,min_samples_leaf=2 ,n_jobs=-1)\n",
    "%time m.fit(x_train, y_train)\n",
    "y_pred= m.predict(x_val)\n",
    "accuracy_score(y_val, y_pred)"
   ]
  },
  {
   "cell_type": "markdown",
   "metadata": {
    "heading_collapsed": true,
    "hidden": true
   },
   "source": [
    "#### Seems like min_samples_leaf=2 improves accuracy"
   ]
  },
  {
   "cell_type": "code",
   "execution_count": 46,
   "metadata": {
    "hidden": true
   },
   "outputs": [
    {
     "name": "stdout",
     "output_type": "stream",
     "text": [
      "Wall time: 9.68 s\n"
     ]
    },
    {
     "data": {
      "text/plain": [
       "0.8234343434343434"
      ]
     },
     "execution_count": 46,
     "metadata": {},
     "output_type": "execute_result"
    }
   ],
   "source": [
    "m = RandomForestClassifier(n_estimators=40,min_samples_leaf=2 ,n_jobs=-1,max_features=0.5)\n",
    "%time m.fit(x_train, y_train)\n",
    "y_pred= m.predict(x_val)\n",
    "accuracy_score(y_val, y_pred)"
   ]
  },
  {
   "cell_type": "code",
   "execution_count": 51,
   "metadata": {
    "hidden": true
   },
   "outputs": [
    {
     "name": "stdout",
     "output_type": "stream",
     "text": [
      "Wall time: 7.46 s\n"
     ]
    },
    {
     "data": {
      "text/plain": [
       "0.8247811447811447"
      ]
     },
     "execution_count": 51,
     "metadata": {},
     "output_type": "execute_result"
    }
   ],
   "source": [
    "m = RandomForestClassifier(n_estimators=40,min_samples_leaf=3 ,n_jobs=-1,max_features=0.4)\n",
    "%time m.fit(x_train, y_train)\n",
    "y_pred= m.predict(x_val)\n",
    "accuracy_score(y_val, y_pred)"
   ]
  },
  {
   "cell_type": "code",
   "execution_count": 32,
   "metadata": {
    "ExecuteTime": {
     "end_time": "2018-05-03T10:51:16.535694Z",
     "start_time": "2018-05-03T10:51:10.054819Z"
    },
    "hidden": true
   },
   "outputs": [
    {
     "name": "stdout",
     "output_type": "stream",
     "text": [
      "Wall time: 6.15 s\n"
     ]
    },
    {
     "data": {
      "text/plain": [
       "0.8068347338935574"
      ]
     },
     "execution_count": 32,
     "metadata": {},
     "output_type": "execute_result"
    }
   ],
   "source": [
    "m = RandomForestClassifier(n_estimators=40,min_samples_leaf=3 ,n_jobs=-1,max_features=0.3)\n",
    "%time m.fit(x_train, y_train)\n",
    "y_pred= m.predict(x_val)\n",
    "accuracy_score(y_val, y_pred)"
   ]
  },
  {
   "cell_type": "code",
   "execution_count": 33,
   "metadata": {
    "ExecuteTime": {
     "end_time": "2018-05-03T10:52:50.919751Z",
     "start_time": "2018-05-03T10:52:03.257166Z"
    },
    "hidden": true
   },
   "outputs": [
    {
     "name": "stdout",
     "output_type": "stream",
     "text": [
      "Wall time: 46.5 s\n"
     ]
    },
    {
     "data": {
      "text/plain": [
       "0.8082913165266107"
      ]
     },
     "execution_count": 33,
     "metadata": {},
     "output_type": "execute_result"
    }
   ],
   "source": [
    "m = RandomForestClassifier(n_estimators=150,min_samples_leaf=3 ,n_jobs=-1,max_features=0.5)\n",
    "%time m.fit(x_train, y_train)\n",
    "y_pred= m.predict(x_val)\n",
    "accuracy_score(y_val, y_pred)"
   ]
  },
  {
   "cell_type": "markdown",
   "metadata": {
    "hidden": true
   },
   "source": [
    "Yeh wala latest hai"
   ]
  },
  {
   "cell_type": "code",
   "execution_count": 113,
   "metadata": {
    "ExecuteTime": {
     "end_time": "2018-05-03T15:26:33.189388Z",
     "start_time": "2018-05-03T15:26:14.060014Z"
    },
    "hidden": true
   },
   "outputs": [
    {
     "name": "stdout",
     "output_type": "stream",
     "text": [
      "Wall time: 17.6 s\n"
     ]
    },
    {
     "data": {
      "text/plain": [
       "0.8081232492997199"
      ]
     },
     "execution_count": 113,
     "metadata": {},
     "output_type": "execute_result"
    }
   ],
   "source": [
    "m = RandomForestClassifier(n_estimators=100,min_samples_leaf=4 ,n_jobs=-1,max_features=0.3)\n",
    "%time m.fit(x_train, y_train)\n",
    "y_pred= m.predict(x_val)\n",
    "accuracy_score(y_val, y_pred)"
   ]
  },
  {
   "cell_type": "code",
   "execution_count": 114,
   "metadata": {
    "ExecuteTime": {
     "end_time": "2018-05-03T15:27:25.779868Z",
     "start_time": "2018-05-03T15:27:25.450946Z"
    },
    "hidden": true
   },
   "outputs": [],
   "source": [
    "## Before executing this line please execute \n",
    "keep = feature_imp[feature_imp.imp > 0.0075].cols"
   ]
  },
  {
   "cell_type": "code",
   "execution_count": 115,
   "metadata": {
    "ExecuteTime": {
     "end_time": "2018-05-03T15:27:26.790519Z",
     "start_time": "2018-05-03T15:27:26.454080Z"
    },
    "hidden": true
   },
   "outputs": [
    {
     "data": {
      "text/plain": [
       "34"
      ]
     },
     "execution_count": 115,
     "metadata": {},
     "output_type": "execute_result"
    }
   ],
   "source": [
    "len(keep)"
   ]
  },
  {
   "cell_type": "code",
   "execution_count": 116,
   "metadata": {
    "ExecuteTime": {
     "end_time": "2018-05-03T15:27:28.597324Z",
     "start_time": "2018-05-03T15:27:28.167624Z"
    },
    "hidden": true
   },
   "outputs": [],
   "source": [
    "df_keep = df[keep]"
   ]
  },
  {
   "cell_type": "code",
   "execution_count": 117,
   "metadata": {
    "ExecuteTime": {
     "end_time": "2018-05-03T15:27:32.814547Z",
     "start_time": "2018-05-03T15:27:32.427464Z"
    },
    "collapsed": true,
    "hidden": true
   },
   "outputs": [
    {
     "ename": "ValueError",
     "evalue": "labels ['quantity_group' 'date_recordedWeek'] not contained in axis",
     "output_type": "error",
     "traceback": [
      "\u001b[1;31m---------------------------------------------------------------------------\u001b[0m",
      "\u001b[1;31mValueError\u001b[0m                                Traceback (most recent call last)",
      "\u001b[1;32m<ipython-input-117-c551b01503dc>\u001b[0m in \u001b[0;36m<module>\u001b[1;34m()\u001b[0m\n\u001b[1;32m----> 1\u001b[1;33m \u001b[0mdf_keep\u001b[0m\u001b[1;33m.\u001b[0m\u001b[0mdrop\u001b[0m\u001b[1;33m(\u001b[0m\u001b[1;33m[\u001b[0m\u001b[1;34m'quantity_group'\u001b[0m\u001b[1;33m,\u001b[0m\u001b[1;34m'date_recordedWeek'\u001b[0m\u001b[1;33m]\u001b[0m\u001b[1;33m,\u001b[0m \u001b[0maxis\u001b[0m \u001b[1;33m=\u001b[0m \u001b[1;36m1\u001b[0m\u001b[1;33m,\u001b[0m \u001b[0minplace\u001b[0m \u001b[1;33m=\u001b[0m \u001b[1;32mTrue\u001b[0m\u001b[1;33m)\u001b[0m\u001b[1;33m\u001b[0m\u001b[0m\n\u001b[0m",
      "\u001b[1;32m~\\Anaconda2\\envs\\tf\\lib\\site-packages\\pandas\\core\\generic.py\u001b[0m in \u001b[0;36mdrop\u001b[1;34m(self, labels, axis, index, columns, level, inplace, errors)\u001b[0m\n\u001b[0;32m   2528\u001b[0m         \u001b[1;32mfor\u001b[0m \u001b[0maxis\u001b[0m\u001b[1;33m,\u001b[0m \u001b[0mlabels\u001b[0m \u001b[1;32min\u001b[0m \u001b[0maxes\u001b[0m\u001b[1;33m.\u001b[0m\u001b[0mitems\u001b[0m\u001b[1;33m(\u001b[0m\u001b[1;33m)\u001b[0m\u001b[1;33m:\u001b[0m\u001b[1;33m\u001b[0m\u001b[0m\n\u001b[0;32m   2529\u001b[0m             \u001b[1;32mif\u001b[0m \u001b[0mlabels\u001b[0m \u001b[1;32mis\u001b[0m \u001b[1;32mnot\u001b[0m \u001b[1;32mNone\u001b[0m\u001b[1;33m:\u001b[0m\u001b[1;33m\u001b[0m\u001b[0m\n\u001b[1;32m-> 2530\u001b[1;33m                 \u001b[0mobj\u001b[0m \u001b[1;33m=\u001b[0m \u001b[0mobj\u001b[0m\u001b[1;33m.\u001b[0m\u001b[0m_drop_axis\u001b[0m\u001b[1;33m(\u001b[0m\u001b[0mlabels\u001b[0m\u001b[1;33m,\u001b[0m \u001b[0maxis\u001b[0m\u001b[1;33m,\u001b[0m \u001b[0mlevel\u001b[0m\u001b[1;33m=\u001b[0m\u001b[0mlevel\u001b[0m\u001b[1;33m,\u001b[0m \u001b[0merrors\u001b[0m\u001b[1;33m=\u001b[0m\u001b[0merrors\u001b[0m\u001b[1;33m)\u001b[0m\u001b[1;33m\u001b[0m\u001b[0m\n\u001b[0m\u001b[0;32m   2531\u001b[0m \u001b[1;33m\u001b[0m\u001b[0m\n\u001b[0;32m   2532\u001b[0m         \u001b[1;32mif\u001b[0m \u001b[0minplace\u001b[0m\u001b[1;33m:\u001b[0m\u001b[1;33m\u001b[0m\u001b[0m\n",
      "\u001b[1;32m~\\Anaconda2\\envs\\tf\\lib\\site-packages\\pandas\\core\\generic.py\u001b[0m in \u001b[0;36m_drop_axis\u001b[1;34m(self, labels, axis, level, errors)\u001b[0m\n\u001b[0;32m   2560\u001b[0m                 \u001b[0mnew_axis\u001b[0m \u001b[1;33m=\u001b[0m \u001b[0maxis\u001b[0m\u001b[1;33m.\u001b[0m\u001b[0mdrop\u001b[0m\u001b[1;33m(\u001b[0m\u001b[0mlabels\u001b[0m\u001b[1;33m,\u001b[0m \u001b[0mlevel\u001b[0m\u001b[1;33m=\u001b[0m\u001b[0mlevel\u001b[0m\u001b[1;33m,\u001b[0m \u001b[0merrors\u001b[0m\u001b[1;33m=\u001b[0m\u001b[0merrors\u001b[0m\u001b[1;33m)\u001b[0m\u001b[1;33m\u001b[0m\u001b[0m\n\u001b[0;32m   2561\u001b[0m             \u001b[1;32melse\u001b[0m\u001b[1;33m:\u001b[0m\u001b[1;33m\u001b[0m\u001b[0m\n\u001b[1;32m-> 2562\u001b[1;33m                 \u001b[0mnew_axis\u001b[0m \u001b[1;33m=\u001b[0m \u001b[0maxis\u001b[0m\u001b[1;33m.\u001b[0m\u001b[0mdrop\u001b[0m\u001b[1;33m(\u001b[0m\u001b[0mlabels\u001b[0m\u001b[1;33m,\u001b[0m \u001b[0merrors\u001b[0m\u001b[1;33m=\u001b[0m\u001b[0merrors\u001b[0m\u001b[1;33m)\u001b[0m\u001b[1;33m\u001b[0m\u001b[0m\n\u001b[0m\u001b[0;32m   2563\u001b[0m             \u001b[0mdropped\u001b[0m \u001b[1;33m=\u001b[0m \u001b[0mself\u001b[0m\u001b[1;33m.\u001b[0m\u001b[0mreindex\u001b[0m\u001b[1;33m(\u001b[0m\u001b[1;33m**\u001b[0m\u001b[1;33m{\u001b[0m\u001b[0maxis_name\u001b[0m\u001b[1;33m:\u001b[0m \u001b[0mnew_axis\u001b[0m\u001b[1;33m}\u001b[0m\u001b[1;33m)\u001b[0m\u001b[1;33m\u001b[0m\u001b[0m\n\u001b[0;32m   2564\u001b[0m             \u001b[1;32mtry\u001b[0m\u001b[1;33m:\u001b[0m\u001b[1;33m\u001b[0m\u001b[0m\n",
      "\u001b[1;32m~\\Anaconda2\\envs\\tf\\lib\\site-packages\\pandas\\core\\indexes\\base.py\u001b[0m in \u001b[0;36mdrop\u001b[1;34m(self, labels, errors)\u001b[0m\n\u001b[0;32m   3742\u001b[0m             \u001b[1;32mif\u001b[0m \u001b[0merrors\u001b[0m \u001b[1;33m!=\u001b[0m \u001b[1;34m'ignore'\u001b[0m\u001b[1;33m:\u001b[0m\u001b[1;33m\u001b[0m\u001b[0m\n\u001b[0;32m   3743\u001b[0m                 raise ValueError('labels %s not contained in axis' %\n\u001b[1;32m-> 3744\u001b[1;33m                                  labels[mask])\n\u001b[0m\u001b[0;32m   3745\u001b[0m             \u001b[0mindexer\u001b[0m \u001b[1;33m=\u001b[0m \u001b[0mindexer\u001b[0m\u001b[1;33m[\u001b[0m\u001b[1;33m~\u001b[0m\u001b[0mmask\u001b[0m\u001b[1;33m]\u001b[0m\u001b[1;33m\u001b[0m\u001b[0m\n\u001b[0;32m   3746\u001b[0m         \u001b[1;32mreturn\u001b[0m \u001b[0mself\u001b[0m\u001b[1;33m.\u001b[0m\u001b[0mdelete\u001b[0m\u001b[1;33m(\u001b[0m\u001b[0mindexer\u001b[0m\u001b[1;33m)\u001b[0m\u001b[1;33m\u001b[0m\u001b[0m\n",
      "\u001b[1;31mValueError\u001b[0m: labels ['quantity_group' 'date_recordedWeek'] not contained in axis"
     ]
    }
   ],
   "source": [
    "df_keep.drop(['quantity_group','date_recordedWeek'], axis = 1, inplace = True)"
   ]
  },
  {
   "cell_type": "code",
   "execution_count": 118,
   "metadata": {
    "ExecuteTime": {
     "end_time": "2018-05-03T15:27:51.383897Z",
     "start_time": "2018-05-03T15:27:51.034923Z"
    },
    "hidden": true
   },
   "outputs": [],
   "source": [
    "x_train, x_val = split_vals(df_keep,n_trn)"
   ]
  },
  {
   "cell_type": "code",
   "execution_count": 119,
   "metadata": {
    "ExecuteTime": {
     "end_time": "2018-05-03T15:28:12.498783Z",
     "start_time": "2018-05-03T15:27:54.508410Z"
    },
    "hidden": true,
    "scrolled": true
   },
   "outputs": [
    {
     "name": "stdout",
     "output_type": "stream",
     "text": [
      "Wall time: 16.9 s\n"
     ]
    },
    {
     "data": {
      "text/plain": [
       "0.80593837535014"
      ]
     },
     "execution_count": 119,
     "metadata": {},
     "output_type": "execute_result"
    }
   ],
   "source": [
    "m = RandomForestClassifier(n_estimators=100,min_samples_leaf=4 ,n_jobs=-1,max_features=0.3)\n",
    "%time m.fit(x_train, y_train)\n",
    "y_pred= m.predict(x_val)\n",
    "accuracy_score(y_val, y_pred)"
   ]
  },
  {
   "cell_type": "code",
   "execution_count": 59,
   "metadata": {
    "ExecuteTime": {
     "end_time": "2018-05-03T12:13:18.970744Z",
     "start_time": "2018-05-03T12:13:06.098189Z"
    },
    "hidden": true
   },
   "outputs": [
    {
     "name": "stdout",
     "output_type": "stream",
     "text": [
      "Wall time: 12 s\n"
     ]
    },
    {
     "data": {
      "text/plain": [
       "0.809187675070028"
      ]
     },
     "execution_count": 59,
     "metadata": {},
     "output_type": "execute_result"
    }
   ],
   "source": [
    "m = RandomForestClassifier(n_estimators=100,min_samples_leaf=3 ,n_jobs=-1,max_features=0.3)\n",
    "%time m.fit(x_train, y_train)\n",
    "y_pred= m.predict(x_val)\n",
    "accuracy_score(y_val, y_pred)"
   ]
  },
  {
   "cell_type": "markdown",
   "metadata": {
    "hidden": true
   },
   "source": [
    "**max_features=0.3**"
   ]
  },
  {
   "cell_type": "markdown",
   "metadata": {},
   "source": [
    "## Test"
   ]
  },
  {
   "cell_type": "code",
   "execution_count": 10,
   "metadata": {
    "ExecuteTime": {
     "end_time": "2018-05-13T11:15:14.636739Z",
     "start_time": "2018-05-13T11:15:13.808531Z"
    }
   },
   "outputs": [],
   "source": [
    "df_raw = pd.concat([train_x,test],axis=0)"
   ]
  },
  {
   "cell_type": "code",
   "execution_count": 11,
   "metadata": {
    "ExecuteTime": {
     "end_time": "2018-05-13T11:15:17.313420Z",
     "start_time": "2018-05-13T11:15:15.386930Z"
    }
   },
   "outputs": [],
   "source": [
    "add_datepart(df_raw, 'date_recorded')"
   ]
  },
  {
   "cell_type": "code",
   "execution_count": 12,
   "metadata": {
    "ExecuteTime": {
     "end_time": "2018-05-13T11:15:20.327185Z",
     "start_time": "2018-05-13T11:15:18.345683Z"
    }
   },
   "outputs": [],
   "source": [
    "train_cats(df_raw)"
   ]
  },
  {
   "cell_type": "code",
   "execution_count": 13,
   "metadata": {
    "ExecuteTime": {
     "end_time": "2018-05-13T11:15:22.561759Z",
     "start_time": "2018-05-13T11:15:22.123641Z"
    }
   },
   "outputs": [],
   "source": [
    "def func(data):\n",
    "    if data=='functional':\n",
    "        return 0\n",
    "    elif data=='non functional':\n",
    "        return 1 \n",
    "    elif data=='functional needs repair':\n",
    "        return 2"
   ]
  },
  {
   "cell_type": "code",
   "execution_count": 14,
   "metadata": {
    "ExecuteTime": {
     "end_time": "2018-05-13T11:15:23.700042Z",
     "start_time": "2018-05-13T11:15:23.136900Z"
    }
   },
   "outputs": [],
   "source": [
    "y = train_y.status_group.apply(func)"
   ]
  },
  {
   "cell_type": "code",
   "execution_count": 15,
   "metadata": {
    "ExecuteTime": {
     "end_time": "2018-05-13T11:15:25.848589Z",
     "start_time": "2018-05-13T11:15:25.271440Z"
    }
   },
   "outputs": [],
   "source": [
    "z = pd.DataFrame(np.zeros((14850,)))\n",
    "y = pd.concat([y,z],axis=0)"
   ]
  },
  {
   "cell_type": "code",
   "execution_count": 16,
   "metadata": {
    "ExecuteTime": {
     "end_time": "2018-05-13T11:15:27.815156Z",
     "start_time": "2018-05-13T11:15:27.315967Z"
    }
   },
   "outputs": [],
   "source": [
    "df_raw['status_group'] = y.astype(int)"
   ]
  },
  {
   "cell_type": "code",
   "execution_count": 17,
   "metadata": {
    "ExecuteTime": {
     "end_time": "2018-05-13T11:15:51.893629Z",
     "start_time": "2018-05-13T11:15:51.570510Z"
    }
   },
   "outputs": [
    {
     "data": {
      "text/plain": [
       "(74250, 53)"
      ]
     },
     "execution_count": 17,
     "metadata": {},
     "output_type": "execute_result"
    }
   ],
   "source": [
    "df_raw.shape"
   ]
  },
  {
   "cell_type": "code",
   "execution_count": 23,
   "metadata": {
    "ExecuteTime": {
     "end_time": "2018-05-13T11:17:40.862204Z",
     "start_time": "2018-05-13T11:17:40.541119Z"
    }
   },
   "outputs": [],
   "source": [
    "imp = ['quantity','longitude','latitude','waterpoint_type','id','wpt_name','subvillage','construction_year',\n",
    " 'gps_height','ward','funder','date_recordedElapsed','date_recordedDayofyear','extraction_type_class','population',\n",
    " 'date_recordedDay','amount_tsh','lga','installer', 'scheme_name','date_recordedDayofweek', 'payment','source',\n",
    " 'extraction_type','region','district_code','management','payment_type','region_code','status_group']"
   ]
  },
  {
   "cell_type": "code",
   "execution_count": 24,
   "metadata": {
    "ExecuteTime": {
     "end_time": "2018-05-13T11:17:41.569403Z",
     "start_time": "2018-05-13T11:17:41.246211Z"
    }
   },
   "outputs": [],
   "source": [
    "df_ = df_raw[imp]"
   ]
  },
  {
   "cell_type": "code",
   "execution_count": 36,
   "metadata": {
    "ExecuteTime": {
     "end_time": "2018-05-13T11:40:56.238999Z",
     "start_time": "2018-05-13T11:40:55.616716Z"
    }
   },
   "outputs": [],
   "source": [
    "df,y,nas = proc_df(df_,'status_group',max_n_cat=12)"
   ]
  },
  {
   "cell_type": "code",
   "execution_count": 37,
   "metadata": {
    "ExecuteTime": {
     "end_time": "2018-05-13T11:40:57.794964Z",
     "start_time": "2018-05-13T11:40:57.504890Z"
    }
   },
   "outputs": [
    {
     "data": {
      "text/plain": [
       "(74250, 72)"
      ]
     },
     "execution_count": 37,
     "metadata": {},
     "output_type": "execute_result"
    }
   ],
   "source": [
    "df.shape"
   ]
  },
  {
   "cell_type": "code",
   "execution_count": 38,
   "metadata": {
    "ExecuteTime": {
     "end_time": "2018-05-13T11:41:01.995184Z",
     "start_time": "2018-05-13T11:41:01.658166Z"
    }
   },
   "outputs": [],
   "source": [
    "def split_vals(a,n):\n",
    "    return a[:n].copy(), a[n:].copy()"
   ]
  },
  {
   "cell_type": "code",
   "execution_count": 39,
   "metadata": {
    "ExecuteTime": {
     "end_time": "2018-05-13T11:41:02.465282Z",
     "start_time": "2018-05-13T11:41:02.096185Z"
    }
   },
   "outputs": [],
   "source": [
    "n_valid = 14850 # same as the size of test set\n",
    "n_trn = len(df)- n_valid\n",
    "x_train, x_test = split_vals(df,n_trn)\n",
    "y_train, y_test = split_vals(y, n_trn)"
   ]
  },
  {
   "cell_type": "code",
   "execution_count": 40,
   "metadata": {
    "ExecuteTime": {
     "end_time": "2018-05-13T11:41:03.232403Z",
     "start_time": "2018-05-13T11:41:02.940314Z"
    }
   },
   "outputs": [
    {
     "data": {
      "text/plain": [
       "(59400, 72)"
      ]
     },
     "execution_count": 40,
     "metadata": {},
     "output_type": "execute_result"
    }
   ],
   "source": [
    "x_train.shape"
   ]
  },
  {
   "cell_type": "code",
   "execution_count": 41,
   "metadata": {
    "ExecuteTime": {
     "end_time": "2018-05-13T11:41:46.921886Z",
     "start_time": "2018-05-13T11:41:05.560402Z"
    }
   },
   "outputs": [
    {
     "name": "stdout",
     "output_type": "stream",
     "text": [
      "Wall time: 40.2 s\n"
     ]
    }
   ],
   "source": [
    "m = RandomForestClassifier(n_estimators=300,min_samples_leaf=3 ,n_jobs=-1,max_features=0.3)\n",
    "%time m.fit(x_train, y_train)\n",
    "y_pred= m.predict(x_test)"
   ]
  },
  {
   "cell_type": "code",
   "execution_count": 42,
   "metadata": {
    "ExecuteTime": {
     "end_time": "2018-05-13T11:41:47.303982Z",
     "start_time": "2018-05-13T11:41:46.928889Z"
    }
   },
   "outputs": [],
   "source": [
    "w=[]\n",
    "for i in y_pred:\n",
    "    if(i==0):\n",
    "        w.append('functional')\n",
    "    elif(i==1):\n",
    "        w.append('non functional')\n",
    "    elif(i==2):\n",
    "        w.append('functional needs repair')"
   ]
  },
  {
   "cell_type": "code",
   "execution_count": 43,
   "metadata": {
    "ExecuteTime": {
     "end_time": "2018-05-13T11:41:47.780177Z",
     "start_time": "2018-05-13T11:41:47.308989Z"
    }
   },
   "outputs": [],
   "source": [
    "x_preds = pd.DataFrame(w)\n",
    "x_preds.columns = ['status_group']\n",
    "submid = test['id']\n",
    "xsub = pd.concat([submid, x_preds], axis=1)\n",
    "xsub.to_csv('submission6.csv', index=False)"
   ]
  },
  {
   "cell_type": "markdown",
   "metadata": {
    "heading_collapsed": true
   },
   "source": [
    "## Interpreting RF"
   ]
  },
  {
   "cell_type": "code",
   "execution_count": 35,
   "metadata": {
    "ExecuteTime": {
     "end_time": "2018-05-01T14:13:55.583350Z",
     "start_time": "2018-05-01T14:13:49.461295Z"
    },
    "hidden": true
   },
   "outputs": [
    {
     "name": "stdout",
     "output_type": "stream",
     "text": [
      "Wall time: 5.79 s\n"
     ]
    },
    {
     "data": {
      "text/plain": [
       "0.8250420168067227"
      ]
     },
     "execution_count": 35,
     "metadata": {},
     "output_type": "execute_result"
    }
   ],
   "source": [
    "m = RandomForestClassifier(n_estimators=40,min_samples_leaf=3 ,n_jobs=-1,max_features=0.3)\n",
    "%time m.fit(x_train, y_train)\n",
    "y_pred= m.predict(x_val)\n",
    "accuracy_score(y_val, y_pred)"
   ]
  },
  {
   "cell_type": "code",
   "execution_count": 40,
   "metadata": {
    "ExecuteTime": {
     "end_time": "2018-05-01T14:15:01.255477Z",
     "start_time": "2018-05-01T14:15:01.248957Z"
    },
    "hidden": true
   },
   "outputs": [],
   "source": [
    "keep = feature_imp[feature_imp.imp > 0.0075].cols"
   ]
  },
  {
   "cell_type": "code",
   "execution_count": 42,
   "metadata": {
    "ExecuteTime": {
     "end_time": "2018-05-01T14:16:07.352272Z",
     "start_time": "2018-05-01T14:16:07.296118Z"
    },
    "hidden": true
   },
   "outputs": [],
   "source": [
    "df_keep = df[keep].copy()"
   ]
  },
  {
   "cell_type": "code",
   "execution_count": 49,
   "metadata": {
    "ExecuteTime": {
     "end_time": "2018-05-01T14:17:59.754804Z",
     "start_time": "2018-05-01T14:17:59.736756Z"
    },
    "hidden": true
   },
   "outputs": [],
   "source": [
    "x_train, x_val = split_vals(df_keep,n_trn)"
   ]
  },
  {
   "cell_type": "code",
   "execution_count": 50,
   "metadata": {
    "ExecuteTime": {
     "end_time": "2018-05-01T14:18:05.455456Z",
     "start_time": "2018-05-01T14:18:00.368391Z"
    },
    "hidden": true
   },
   "outputs": [
    {
     "name": "stdout",
     "output_type": "stream",
     "text": [
      "Wall time: 4.82 s\n"
     ]
    },
    {
     "data": {
      "text/plain": [
       "0.8224649859943978"
      ]
     },
     "execution_count": 50,
     "metadata": {},
     "output_type": "execute_result"
    }
   ],
   "source": [
    "m = RandomForestClassifier(n_estimators=40,min_samples_leaf=3 ,n_jobs=-1,max_features=0.3)\n",
    "%time m.fit(x_train, y_train)\n",
    "y_pred= m.predict(x_val)\n",
    "accuracy_score(y_val, y_pred)"
   ]
  },
  {
   "cell_type": "code",
   "execution_count": 61,
   "metadata": {
    "ExecuteTime": {
     "end_time": "2018-05-01T14:48:39.752490Z",
     "start_time": "2018-05-01T14:48:39.673824Z"
    },
    "hidden": true
   },
   "outputs": [],
   "source": [
    "train_x.drop(['quantity_group','date_recordedWeek'], axis = 1, inplace = True)"
   ]
  },
  {
   "cell_type": "code",
   "execution_count": 62,
   "metadata": {
    "ExecuteTime": {
     "end_time": "2018-05-01T14:48:52.657161Z",
     "start_time": "2018-05-01T14:48:52.441755Z"
    },
    "hidden": true
   },
   "outputs": [],
   "source": [
    "df,y,nas = proc_df(train_x,'status_group')"
   ]
  },
  {
   "cell_type": "code",
   "execution_count": 63,
   "metadata": {
    "ExecuteTime": {
     "end_time": "2018-05-01T14:49:10.017139Z",
     "start_time": "2018-05-01T14:49:09.996070Z"
    },
    "hidden": true
   },
   "outputs": [],
   "source": [
    "x_train, x_val = split_vals(df_keep,n_trn)"
   ]
  },
  {
   "cell_type": "code",
   "execution_count": 64,
   "metadata": {
    "ExecuteTime": {
     "end_time": "2018-05-01T14:49:22.024137Z",
     "start_time": "2018-05-01T14:49:17.512539Z"
    },
    "hidden": true
   },
   "outputs": [
    {
     "name": "stdout",
     "output_type": "stream",
     "text": [
      "Wall time: 4.24 s\n"
     ]
    },
    {
     "data": {
      "text/plain": [
       "0.8242577030812325"
      ]
     },
     "execution_count": 64,
     "metadata": {},
     "output_type": "execute_result"
    }
   ],
   "source": [
    "m = RandomForestClassifier(n_estimators=40,min_samples_leaf=3 ,n_jobs=-1,max_features=0.3)\n",
    "%time m.fit(x_train, y_train)\n",
    "y_pred= m.predict(x_val)\n",
    "accuracy_score(y_val, y_pred)"
   ]
  },
  {
   "cell_type": "markdown",
   "metadata": {},
   "source": [
    "## Interpreting Xgboost"
   ]
  },
  {
   "cell_type": "markdown",
   "metadata": {
    "heading_collapsed": true
   },
   "source": [
    "### basic Xgboost"
   ]
  },
  {
   "cell_type": "code",
   "execution_count": 62,
   "metadata": {
    "ExecuteTime": {
     "end_time": "2018-05-03T11:08:41.687396Z",
     "start_time": "2018-05-03T11:08:05.676558Z"
    },
    "hidden": true
   },
   "outputs": [
    {
     "name": "stderr",
     "output_type": "stream",
     "text": [
      "C:\\Users\\USER\\Anaconda2\\envs\\tf\\lib\\site-packages\\sklearn\\preprocessing\\label.py:151: DeprecationWarning: The truth value of an empty array is ambiguous. Returning False, but in future this will result in an error. Use `array.size > 0` to check that an array is not empty.\n",
      "  if diff:\n"
     ]
    },
    {
     "data": {
      "text/plain": [
       "0.7499159663865547"
      ]
     },
     "execution_count": 62,
     "metadata": {},
     "output_type": "execute_result"
    }
   ],
   "source": [
    "model = xgb.XGBClassifier()\n",
    "train_model = model.fit(x_train, y_train)\n",
    "y_pred = train_model.predict(x_val)\n",
    "accuracy_score(y_val,y_pred)"
   ]
  },
  {
   "cell_type": "code",
   "execution_count": 35,
   "metadata": {
    "ExecuteTime": {
     "end_time": "2018-05-02T15:49:23.583700Z",
     "start_time": "2018-05-02T15:49:10.683190Z"
    },
    "hidden": true
   },
   "outputs": [
    {
     "name": "stderr",
     "output_type": "stream",
     "text": [
      "C:\\Users\\USER\\Anaconda2\\envs\\tf\\lib\\site-packages\\sklearn\\preprocessing\\label.py:151: DeprecationWarning: The truth value of an empty array is ambiguous. Returning False, but in future this will result in an error. Use `array.size > 0` to check that an array is not empty.\n",
      "  if diff:\n"
     ]
    },
    {
     "data": {
      "text/plain": [
       "0.7672268907563026"
      ]
     },
     "execution_count": 35,
     "metadata": {},
     "output_type": "execute_result"
    }
   ],
   "source": [
    "model = xgb.XGBClassifier(n_estimators=100)\n",
    "train_model = model.fit(x_train, y_train)\n",
    "y_pred = train_model.predict(x_val)\n",
    "accuracy_score(y_val,y_pred)"
   ]
  },
  {
   "cell_type": "code",
   "execution_count": 43,
   "metadata": {
    "ExecuteTime": {
     "end_time": "2018-05-02T16:23:11.487354Z",
     "start_time": "2018-05-02T16:22:45.024113Z"
    },
    "hidden": true
   },
   "outputs": [
    {
     "name": "stderr",
     "output_type": "stream",
     "text": [
      "C:\\Users\\USER\\Anaconda2\\envs\\tf\\lib\\site-packages\\sklearn\\preprocessing\\label.py:151: DeprecationWarning: The truth value of an empty array is ambiguous. Returning False, but in future this will result in an error. Use `array.size > 0` to check that an array is not empty.\n",
      "  if diff:\n"
     ]
    },
    {
     "data": {
      "text/plain": [
       "0.8014565826330532"
      ]
     },
     "execution_count": 43,
     "metadata": {},
     "output_type": "execute_result"
    }
   ],
   "source": [
    "model = xgb.XGBClassifier(n_estimators=100,max_depth=6)\n",
    "train_model = model.fit(x_train, y_train)\n",
    "y_pred = train_model.predict(x_val)\n",
    "accuracy_score(y_val,y_pred)"
   ]
  },
  {
   "cell_type": "code",
   "execution_count": 49,
   "metadata": {
    "ExecuteTime": {
     "end_time": "2018-05-02T16:52:13.276689Z",
     "start_time": "2018-05-02T16:51:32.312731Z"
    },
    "hidden": true
   },
   "outputs": [
    {
     "name": "stderr",
     "output_type": "stream",
     "text": [
      "C:\\Users\\USER\\Anaconda2\\envs\\tf\\lib\\site-packages\\sklearn\\preprocessing\\label.py:151: DeprecationWarning: The truth value of an empty array is ambiguous. Returning False, but in future this will result in an error. Use `array.size > 0` to check that an array is not empty.\n",
      "  if diff:\n"
     ]
    },
    {
     "data": {
      "text/plain": [
       "0.8171988795518207"
      ]
     },
     "execution_count": 49,
     "metadata": {},
     "output_type": "execute_result"
    }
   ],
   "source": [
    "model = xgb.XGBClassifier(n_estimators=100,max_depth=10,min_child_weight=4, gamma=0)\n",
    "train_model = model.fit(x_train, y_train)\n",
    "y_pred = train_model.predict(x_val)\n",
    "accuracy_score(y_val,y_pred)"
   ]
  },
  {
   "cell_type": "code",
   "execution_count": 50,
   "metadata": {
    "ExecuteTime": {
     "end_time": "2018-05-02T16:58:41.207707Z",
     "start_time": "2018-05-02T16:57:59.654085Z"
    },
    "hidden": true
   },
   "outputs": [
    {
     "name": "stderr",
     "output_type": "stream",
     "text": [
      "C:\\Users\\USER\\Anaconda2\\envs\\tf\\lib\\site-packages\\sklearn\\preprocessing\\label.py:151: DeprecationWarning: The truth value of an empty array is ambiguous. Returning False, but in future this will result in an error. Use `array.size > 0` to check that an array is not empty.\n",
      "  if diff:\n"
     ]
    },
    {
     "data": {
      "text/plain": [
       "0.816078431372549"
      ]
     },
     "execution_count": 50,
     "metadata": {},
     "output_type": "execute_result"
    }
   ],
   "source": [
    "model = xgb.XGBClassifier(n_estimators=100,max_depth=10,min_child_weight=6, gamma=0)\n",
    "train_model = model.fit(x_train, y_train)\n",
    "y_pred = train_model.predict(x_val)\n",
    "accuracy_score(y_val,y_pred)"
   ]
  },
  {
   "cell_type": "code",
   "execution_count": 52,
   "metadata": {
    "ExecuteTime": {
     "end_time": "2018-05-02T17:04:52.109493Z",
     "start_time": "2018-05-02T17:04:00.228040Z"
    },
    "hidden": true
   },
   "outputs": [
    {
     "name": "stderr",
     "output_type": "stream",
     "text": [
      "C:\\Users\\USER\\Anaconda2\\envs\\tf\\lib\\site-packages\\sklearn\\preprocessing\\label.py:151: DeprecationWarning: The truth value of an empty array is ambiguous. Returning False, but in future this will result in an error. Use `array.size > 0` to check that an array is not empty.\n",
      "  if diff:\n"
     ]
    },
    {
     "data": {
      "text/plain": [
       "0.8175350140056022"
      ]
     },
     "execution_count": 52,
     "metadata": {},
     "output_type": "execute_result"
    }
   ],
   "source": [
    "model = xgb.XGBClassifier(n_estimators=100,max_depth=12,min_child_weight=2, gamma=0)\n",
    "train_model = model.fit(x_train, y_train)\n",
    "y_pred = train_model.predict(x_val)\n",
    "accuracy_score(y_val,y_pred)"
   ]
  },
  {
   "cell_type": "code",
   "execution_count": 63,
   "metadata": {
    "ExecuteTime": {
     "end_time": "2018-05-03T11:10:59.893071Z",
     "start_time": "2018-05-03T11:09:20.245152Z"
    },
    "hidden": true
   },
   "outputs": [
    {
     "name": "stderr",
     "output_type": "stream",
     "text": [
      "C:\\Users\\USER\\Anaconda2\\envs\\tf\\lib\\site-packages\\sklearn\\preprocessing\\label.py:151: DeprecationWarning: The truth value of an empty array is ambiguous. Returning False, but in future this will result in an error. Use `array.size > 0` to check that an array is not empty.\n",
      "  if diff:\n"
     ]
    },
    {
     "data": {
      "text/plain": [
       "0.8030812324929972"
      ]
     },
     "execution_count": 63,
     "metadata": {},
     "output_type": "execute_result"
    }
   ],
   "source": [
    "model = xgb.XGBClassifier(n_estimators=100,max_depth=10,min_child_weight=4, gamma=0,subsample=0.8, colsample_bytree=0.8,objective= 'binary:logistic')\n",
    "train_model = model.fit(x_train, y_train)\n",
    "y_pred = train_model.predict(x_val)\n",
    "accuracy_score(y_val,y_pred)"
   ]
  },
  {
   "cell_type": "code",
   "execution_count": 55,
   "metadata": {
    "ExecuteTime": {
     "end_time": "2018-05-02T17:33:05.600285Z",
     "start_time": "2018-05-02T17:31:01.886898Z"
    },
    "hidden": true
   },
   "outputs": [
    {
     "name": "stderr",
     "output_type": "stream",
     "text": [
      "C:\\Users\\USER\\Anaconda2\\envs\\tf\\lib\\site-packages\\sklearn\\preprocessing\\label.py:151: DeprecationWarning: The truth value of an empty array is ambiguous. Returning False, but in future this will result in an error. Use `array.size > 0` to check that an array is not empty.\n",
      "  if diff:\n"
     ]
    },
    {
     "data": {
      "text/plain": [
       "0.8192156862745098"
      ]
     },
     "execution_count": 55,
     "metadata": {},
     "output_type": "execute_result"
    }
   ],
   "source": [
    "model = xgb.XGBClassifier(n_estimators=300,max_depth=12,min_child_weight=4, gamma=0,subsample=0.8, colsample_bytree=0.8,objective= 'binary:logistic')\n",
    "train_model = model.fit(x_train, y_train)\n",
    "y_pred = train_model.predict(x_val)\n",
    "accuracy_score(y_val,y_pred)"
   ]
  },
  {
   "cell_type": "markdown",
   "metadata": {},
   "source": [
    "### Using Dmatrix"
   ]
  },
  {
   "cell_type": "code",
   "execution_count": 38,
   "metadata": {
    "ExecuteTime": {
     "end_time": "2018-05-04T05:28:09.840832Z",
     "start_time": "2018-05-04T05:28:09.241504Z"
    }
   },
   "outputs": [],
   "source": [
    "xg_train = xgb.DMatrix(x_train, label=y_train)\n",
    "xg_val = xgb.DMatrix(x_val,y_val)"
   ]
  },
  {
   "cell_type": "code",
   "execution_count": 1,
   "metadata": {
    "ExecuteTime": {
     "end_time": "2018-05-04T05:45:12.753592Z",
     "start_time": "2018-05-04T05:45:12.493227Z"
    }
   },
   "outputs": [],
   "source": [
    "params = {'max_depth':14,'colsample_bytree':0.3,'subsample':0.7,'objective': 'multi:softmax','eta':0.2,'num_class' :3,'eval_metric':'merror'}"
   ]
  },
  {
   "cell_type": "code",
   "execution_count": 58,
   "metadata": {
    "ExecuteTime": {
     "end_time": "2018-05-04T05:45:14.681103Z",
     "start_time": "2018-05-04T05:45:14.430315Z"
    }
   },
   "outputs": [],
   "source": [
    "evallist = [(xg_val, 'eval'), (xg_train, 'train')]"
   ]
  },
  {
   "cell_type": "code",
   "execution_count": 59,
   "metadata": {
    "ExecuteTime": {
     "end_time": "2018-05-04T05:46:15.713157Z",
     "start_time": "2018-05-04T05:45:20.192403Z"
    }
   },
   "outputs": [
    {
     "name": "stdout",
     "output_type": "stream",
     "text": [
      "[0]\teval-merror:0.242577\ttrain-merror:0.173165\n",
      "[1]\teval-merror:0.238599\ttrain-merror:0.156294\n",
      "[2]\teval-merror:0.224538\ttrain-merror:0.143369\n",
      "[3]\teval-merror:0.217255\ttrain-merror:0.133574\n",
      "[4]\teval-merror:0.206275\ttrain-merror:0.126715\n",
      "[5]\teval-merror:0.204034\ttrain-merror:0.121733\n",
      "[6]\teval-merror:0.202185\ttrain-merror:0.119278\n",
      "[7]\teval-merror:0.200784\ttrain-merror:0.113646\n",
      "[8]\teval-merror:0.200168\ttrain-merror:0.110542\n",
      "[9]\teval-merror:0.200336\ttrain-merror:0.107148\n",
      "[10]\teval-merror:0.200448\ttrain-merror:0.103827\n",
      "[11]\teval-merror:0.198599\ttrain-merror:0.100554\n",
      "[12]\teval-merror:0.198431\ttrain-merror:0.098002\n",
      "[13]\teval-merror:0.198824\ttrain-merror:0.095331\n",
      "[14]\teval-merror:0.197367\ttrain-merror:0.093069\n",
      "[15]\teval-merror:0.197423\ttrain-merror:0.091384\n",
      "[16]\teval-merror:0.19619\ttrain-merror:0.088544\n",
      "[17]\teval-merror:0.196359\ttrain-merror:0.084477\n",
      "[18]\teval-merror:0.195854\ttrain-merror:0.082768\n",
      "[19]\teval-merror:0.19563\ttrain-merror:0.080289\n",
      "[20]\teval-merror:0.195966\ttrain-merror:0.078051\n",
      "[21]\teval-merror:0.194846\ttrain-merror:0.075668\n",
      "[22]\teval-merror:0.194958\ttrain-merror:0.073309\n",
      "[23]\teval-merror:0.194622\ttrain-merror:0.071095\n",
      "[24]\teval-merror:0.194286\ttrain-merror:0.06799\n",
      "[25]\teval-merror:0.193557\ttrain-merror:0.0658\n",
      "[26]\teval-merror:0.192997\ttrain-merror:0.064717\n",
      "[27]\teval-merror:0.19395\ttrain-merror:0.062262\n",
      "[28]\teval-merror:0.194454\ttrain-merror:0.059615\n",
      "[29]\teval-merror:0.193838\ttrain-merror:0.058002\n",
      "[30]\teval-merror:0.193501\ttrain-merror:0.055499\n",
      "[31]\teval-merror:0.194398\ttrain-merror:0.054079\n",
      "[32]\teval-merror:0.194174\ttrain-merror:0.052323\n",
      "[33]\teval-merror:0.194006\ttrain-merror:0.051288\n",
      "[34]\teval-merror:0.192549\ttrain-merror:0.049675\n",
      "[35]\teval-merror:0.193782\ttrain-merror:0.048159\n",
      "[36]\teval-merror:0.192997\ttrain-merror:0.046619\n",
      "[37]\teval-merror:0.193613\ttrain-merror:0.044693\n",
      "[38]\teval-merror:0.193389\ttrain-merror:0.043057\n",
      "[39]\teval-merror:0.193894\ttrain-merror:0.041276\n",
      "[40]\teval-merror:0.192941\ttrain-merror:0.040289\n",
      "[41]\teval-merror:0.192269\ttrain-merror:0.038821\n",
      "[42]\teval-merror:0.192717\ttrain-merror:0.037256\n",
      "[43]\teval-merror:0.192493\ttrain-merror:0.035427\n",
      "[44]\teval-merror:0.193053\ttrain-merror:0.033165\n",
      "[45]\teval-merror:0.192997\ttrain-merror:0.032034\n",
      "[46]\teval-merror:0.192717\ttrain-merror:0.030108\n",
      "[47]\teval-merror:0.191653\ttrain-merror:0.029531\n",
      "[48]\teval-merror:0.192269\ttrain-merror:0.028063\n",
      "[49]\teval-merror:0.192269\ttrain-merror:0.026715\n",
      "[50]\teval-merror:0.193277\ttrain-merror:0.02556\n",
      "[51]\teval-merror:0.193277\ttrain-merror:0.024741\n",
      "[52]\teval-merror:0.192437\ttrain-merror:0.023634\n",
      "[53]\teval-merror:0.192829\ttrain-merror:0.021733\n",
      "[54]\teval-merror:0.192437\ttrain-merror:0.02077\n",
      "[55]\teval-merror:0.192717\ttrain-merror:0.020168\n",
      "[56]\teval-merror:0.193165\ttrain-merror:0.019446\n",
      "[57]\teval-merror:0.192661\ttrain-merror:0.018821\n",
      "[58]\teval-merror:0.192381\ttrain-merror:0.01728\n",
      "[59]\teval-merror:0.192549\ttrain-merror:0.016727\n",
      "[60]\teval-merror:0.192381\ttrain-merror:0.016149\n",
      "[61]\teval-merror:0.192885\ttrain-merror:0.015307\n",
      "[62]\teval-merror:0.192885\ttrain-merror:0.014537\n",
      "[63]\teval-merror:0.192493\ttrain-merror:0.013622\n",
      "[64]\teval-merror:0.192549\ttrain-merror:0.013454\n",
      "[65]\teval-merror:0.192941\ttrain-merror:0.012996\n",
      "[66]\teval-merror:0.192829\ttrain-merror:0.012178\n",
      "[67]\teval-merror:0.191821\ttrain-merror:0.011649\n",
      "[68]\teval-merror:0.192213\ttrain-merror:0.011336\n",
      "[69]\teval-merror:0.191821\ttrain-merror:0.010493\n",
      "[70]\teval-merror:0.191933\ttrain-merror:0.010277\n",
      "[71]\teval-merror:0.191204\ttrain-merror:0.009892\n",
      "[72]\teval-merror:0.191821\ttrain-merror:0.009579\n",
      "[73]\teval-merror:0.191821\ttrain-merror:0.009218\n",
      "[74]\teval-merror:0.192269\ttrain-merror:0.008785\n",
      "[75]\teval-merror:0.191653\ttrain-merror:0.008014\n",
      "[76]\teval-merror:0.192045\ttrain-merror:0.007774\n",
      "[77]\teval-merror:0.191429\ttrain-merror:0.007365\n",
      "[78]\teval-merror:0.191429\ttrain-merror:0.007004\n",
      "[79]\teval-merror:0.191317\ttrain-merror:0.006931\n",
      "[80]\teval-merror:0.190924\ttrain-merror:0.006594\n",
      "[81]\teval-merror:0.192101\ttrain-merror:0.006233\n",
      "[82]\teval-merror:0.191877\ttrain-merror:0.005704\n",
      "[83]\teval-merror:0.192549\ttrain-merror:0.005535\n",
      "[84]\teval-merror:0.192213\ttrain-merror:0.005391\n",
      "[85]\teval-merror:0.192381\ttrain-merror:0.005006\n",
      "[86]\teval-merror:0.192269\ttrain-merror:0.004789\n",
      "[87]\teval-merror:0.192549\ttrain-merror:0.00438\n",
      "[88]\teval-merror:0.192829\ttrain-merror:0.004284\n",
      "[89]\teval-merror:0.192437\ttrain-merror:0.003803\n",
      "[90]\teval-merror:0.192605\ttrain-merror:0.003538\n",
      "[91]\teval-merror:0.192829\ttrain-merror:0.003177\n",
      "[92]\teval-merror:0.192773\ttrain-merror:0.003105\n",
      "[93]\teval-merror:0.192885\ttrain-merror:0.003081\n",
      "[94]\teval-merror:0.193109\ttrain-merror:0.002888\n",
      "[95]\teval-merror:0.192773\ttrain-merror:0.002647\n",
      "[96]\teval-merror:0.192773\ttrain-merror:0.002599\n",
      "[97]\teval-merror:0.193445\ttrain-merror:0.002166\n",
      "[98]\teval-merror:0.193613\ttrain-merror:0.002142\n",
      "[99]\teval-merror:0.193557\ttrain-merror:0.001998\n",
      "[100]\teval-merror:0.192997\ttrain-merror:0.001925\n",
      "[101]\teval-merror:0.193557\ttrain-merror:0.001564\n",
      "[102]\teval-merror:0.192661\ttrain-merror:0.001709\n",
      "[103]\teval-merror:0.193221\ttrain-merror:0.001564\n",
      "[104]\teval-merror:0.192941\ttrain-merror:0.001396\n",
      "[105]\teval-merror:0.192437\ttrain-merror:0.0013\n",
      "[106]\teval-merror:0.193165\ttrain-merror:0.001276\n",
      "[107]\teval-merror:0.192885\ttrain-merror:0.001155\n",
      "[108]\teval-merror:0.193221\ttrain-merror:0.001083\n",
      "[109]\teval-merror:0.193277\ttrain-merror:0.001035\n",
      "[110]\teval-merror:0.193277\ttrain-merror:0.000987\n",
      "[111]\teval-merror:0.193894\ttrain-merror:0.000939\n",
      "[112]\teval-merror:0.194006\ttrain-merror:0.000915\n",
      "[113]\teval-merror:0.194174\ttrain-merror:0.000939\n",
      "[114]\teval-merror:0.194118\ttrain-merror:0.000818\n",
      "[115]\teval-merror:0.193894\ttrain-merror:0.000626\n",
      "[116]\teval-merror:0.193669\ttrain-merror:0.000457\n",
      "[117]\teval-merror:0.193109\ttrain-merror:0.000457\n",
      "[118]\teval-merror:0.194006\ttrain-merror:0.000433\n",
      "[119]\teval-merror:0.193725\ttrain-merror:0.000433\n",
      "[120]\teval-merror:0.193501\ttrain-merror:0.000433\n",
      "[121]\teval-merror:0.193277\ttrain-merror:0.000361\n",
      "[122]\teval-merror:0.192885\ttrain-merror:0.000409\n",
      "[123]\teval-merror:0.192549\ttrain-merror:0.000409\n",
      "[124]\teval-merror:0.192045\ttrain-merror:0.000361\n",
      "[125]\teval-merror:0.192605\ttrain-merror:0.000337\n",
      "[126]\teval-merror:0.192885\ttrain-merror:0.000313\n",
      "[127]\teval-merror:0.192885\ttrain-merror:0.000313\n",
      "[128]\teval-merror:0.192997\ttrain-merror:0.000241\n",
      "[129]\teval-merror:0.192661\ttrain-merror:0.000193\n",
      "[130]\teval-merror:0.192773\ttrain-merror:0.000193\n",
      "[131]\teval-merror:0.192829\ttrain-merror:0.000168\n",
      "[132]\teval-merror:0.192269\ttrain-merror:0.000217\n",
      "[133]\teval-merror:0.192493\ttrain-merror:0.000193\n",
      "[134]\teval-merror:0.191597\ttrain-merror:0.000193\n",
      "[135]\teval-merror:0.191877\ttrain-merror:0.000144\n",
      "[136]\teval-merror:0.192605\ttrain-merror:7.2e-05\n",
      "[137]\teval-merror:0.192605\ttrain-merror:7.2e-05\n",
      "[138]\teval-merror:0.192381\ttrain-merror:7.2e-05\n",
      "[139]\teval-merror:0.192661\ttrain-merror:7.2e-05\n",
      "[140]\teval-merror:0.192661\ttrain-merror:7.2e-05\n",
      "[141]\teval-merror:0.193053\ttrain-merror:7.2e-05\n",
      "[142]\teval-merror:0.192829\ttrain-merror:7.2e-05\n",
      "[143]\teval-merror:0.192829\ttrain-merror:4.8e-05\n",
      "[144]\teval-merror:0.192773\ttrain-merror:7.2e-05\n",
      "[145]\teval-merror:0.192549\ttrain-merror:7.2e-05\n",
      "[146]\teval-merror:0.192717\ttrain-merror:4.8e-05\n",
      "[147]\teval-merror:0.192437\ttrain-merror:4.8e-05\n",
      "[148]\teval-merror:0.192605\ttrain-merror:4.8e-05\n",
      "[149]\teval-merror:0.192101\ttrain-merror:7.2e-05\n",
      "[150]\teval-merror:0.192717\ttrain-merror:7.2e-05\n",
      "[151]\teval-merror:0.192549\ttrain-merror:7.2e-05\n",
      "[152]\teval-merror:0.192493\ttrain-merror:7.2e-05\n",
      "[153]\teval-merror:0.192493\ttrain-merror:7.2e-05\n",
      "[154]\teval-merror:0.192045\ttrain-merror:4.8e-05\n",
      "[155]\teval-merror:0.192101\ttrain-merror:4.8e-05\n",
      "[156]\teval-merror:0.192605\ttrain-merror:4.8e-05\n",
      "[157]\teval-merror:0.192829\ttrain-merror:4.8e-05\n",
      "[158]\teval-merror:0.192549\ttrain-merror:4.8e-05\n",
      "[159]\teval-merror:0.192381\ttrain-merror:4.8e-05\n",
      "[160]\teval-merror:0.192773\ttrain-merror:4.8e-05\n",
      "[161]\teval-merror:0.192437\ttrain-merror:4.8e-05\n",
      "[162]\teval-merror:0.192269\ttrain-merror:4.8e-05\n",
      "[163]\teval-merror:0.192269\ttrain-merror:4.8e-05\n",
      "[164]\teval-merror:0.192213\ttrain-merror:2.4e-05\n",
      "[165]\teval-merror:0.192325\ttrain-merror:0\n",
      "[166]\teval-merror:0.191877\ttrain-merror:0\n",
      "[167]\teval-merror:0.192045\ttrain-merror:0\n",
      "[168]\teval-merror:0.192213\ttrain-merror:2.4e-05\n",
      "[169]\teval-merror:0.192605\ttrain-merror:0\n",
      "[170]\teval-merror:0.192157\ttrain-merror:0\n",
      "[171]\teval-merror:0.192101\ttrain-merror:0\n",
      "[172]\teval-merror:0.192101\ttrain-merror:0\n",
      "[173]\teval-merror:0.191653\ttrain-merror:0\n",
      "[174]\teval-merror:0.192325\ttrain-merror:0\n",
      "[175]\teval-merror:0.192213\ttrain-merror:0\n",
      "[176]\teval-merror:0.192213\ttrain-merror:0\n",
      "[177]\teval-merror:0.192269\ttrain-merror:0\n",
      "[178]\teval-merror:0.192269\ttrain-merror:0\n",
      "[179]\teval-merror:0.192549\ttrain-merror:0\n",
      "[180]\teval-merror:0.192157\ttrain-merror:0\n",
      "[181]\teval-merror:0.192157\ttrain-merror:0\n",
      "[182]\teval-merror:0.192101\ttrain-merror:0\n",
      "[183]\teval-merror:0.192269\ttrain-merror:0\n",
      "[184]\teval-merror:0.192157\ttrain-merror:0\n",
      "[185]\teval-merror:0.192045\ttrain-merror:0\n",
      "[186]\teval-merror:0.192325\ttrain-merror:0\n",
      "[187]\teval-merror:0.192493\ttrain-merror:0\n",
      "[188]\teval-merror:0.192549\ttrain-merror:0\n",
      "[189]\teval-merror:0.192437\ttrain-merror:0\n",
      "[190]\teval-merror:0.192381\ttrain-merror:0\n",
      "[191]\teval-merror:0.192437\ttrain-merror:0\n",
      "[192]\teval-merror:0.192661\ttrain-merror:0\n",
      "[193]\teval-merror:0.192381\ttrain-merror:0\n",
      "[194]\teval-merror:0.192605\ttrain-merror:0\n",
      "[195]\teval-merror:0.192717\ttrain-merror:0\n",
      "[196]\teval-merror:0.193277\ttrain-merror:0\n",
      "[197]\teval-merror:0.193109\ttrain-merror:0\n",
      "[198]\teval-merror:0.193445\ttrain-merror:0\n",
      "[199]\teval-merror:0.193613\ttrain-merror:0\n"
     ]
    }
   ],
   "source": [
    "num_round = 200\n",
    "m = xgb.train(params, xg_train, num_boost_round=num_round, evals=evallist)"
   ]
  },
  {
   "cell_type": "code",
   "execution_count": 60,
   "metadata": {
    "ExecuteTime": {
     "end_time": "2018-05-04T05:46:26.964079Z",
     "start_time": "2018-05-04T05:46:22.003579Z"
    }
   },
   "outputs": [],
   "source": [
    "y_pred = m.predict(xgb.DMatrix(x_val))"
   ]
  },
  {
   "cell_type": "code",
   "execution_count": 61,
   "metadata": {
    "ExecuteTime": {
     "end_time": "2018-05-04T05:46:27.340737Z",
     "start_time": "2018-05-04T05:46:26.967171Z"
    }
   },
   "outputs": [
    {
     "data": {
      "text/plain": [
       "0.8063865546218487"
      ]
     },
     "execution_count": 61,
     "metadata": {},
     "output_type": "execute_result"
    }
   ],
   "source": [
    "accuracy_score(y_pred,y_val)"
   ]
  },
  {
   "cell_type": "markdown",
   "metadata": {
    "heading_collapsed": true
   },
   "source": [
    "#### Lets's try Grid search CV"
   ]
  },
  {
   "cell_type": "code",
   "execution_count": 45,
   "metadata": {
    "ExecuteTime": {
     "end_time": "2018-05-02T16:31:48.947379Z",
     "start_time": "2018-05-02T16:31:48.941351Z"
    },
    "hidden": true
   },
   "outputs": [],
   "source": [
    "from sklearn.model_selection import GridSearchCV"
   ]
  },
  {
   "cell_type": "code",
   "execution_count": 46,
   "metadata": {
    "ExecuteTime": {
     "end_time": "2018-05-02T16:32:01.154650Z",
     "start_time": "2018-05-02T16:32:01.147637Z"
    },
    "hidden": true
   },
   "outputs": [],
   "source": [
    "param_test = {\n",
    " 'max_depth':[4,6,8],\n",
    " 'min_child_weight':[4,5,6]\n",
    "}"
   ]
  },
  {
   "cell_type": "code",
   "execution_count": 47,
   "metadata": {
    "ExecuteTime": {
     "end_time": "2018-05-02T16:32:01.431917Z",
     "start_time": "2018-05-02T16:32:01.414364Z"
    },
    "hidden": true
   },
   "outputs": [],
   "source": [
    "gsearch = GridSearchCV(estimator = xgb.XGBClassifier( learning_rate=0.1, n_estimators=140, max_depth=5,\n",
    " min_child_weight=2, gamma=0, subsample=0.8, colsample_bytree=0.8,\n",
    " objective= 'binary:logistic', nthread=4, scale_pos_weight=1,seed=27), \n",
    " param_grid = param_test, scoring='roc_auc',n_jobs=-1,iid=False, cv=5)"
   ]
  },
  {
   "cell_type": "code",
   "execution_count": 48,
   "metadata": {
    "ExecuteTime": {
     "end_time": "2018-05-02T16:39:18.230247Z",
     "start_time": "2018-05-02T16:32:40.049499Z"
    },
    "hidden": true
   },
   "outputs": [
    {
     "name": "stderr",
     "output_type": "stream",
     "text": [
      "C:\\Users\\USER\\Anaconda2\\envs\\tf\\lib\\site-packages\\sklearn\\preprocessing\\label.py:151: DeprecationWarning: The truth value of an empty array is ambiguous. Returning False, but in future this will result in an error. Use `array.size > 0` to check that an array is not empty.\n",
      "  if diff:\n"
     ]
    },
    {
     "data": {
      "text/plain": [
       "0.8149579831932773"
      ]
     },
     "execution_count": 48,
     "metadata": {},
     "output_type": "execute_result"
    }
   ],
   "source": [
    "train_model = gsearch.fit(x_train, y_train)\n",
    "y_pred = train_model.predict(x_val)\n",
    "accuracy_score(y_val,y_pred)"
   ]
  },
  {
   "cell_type": "code",
   "execution_count": null,
   "metadata": {
    "hidden": true
   },
   "outputs": [],
   "source": []
  },
  {
   "cell_type": "markdown",
   "metadata": {
    "heading_collapsed": true
   },
   "source": [
    "## Xgboost"
   ]
  },
  {
   "cell_type": "code",
   "execution_count": 65,
   "metadata": {
    "ExecuteTime": {
     "end_time": "2018-05-03T11:17:59.857490Z",
     "start_time": "2018-05-03T11:17:59.850474Z"
    },
    "hidden": true
   },
   "outputs": [],
   "source": [
    "from xgboost import XGBClassifier"
   ]
  },
  {
   "cell_type": "code",
   "execution_count": 66,
   "metadata": {
    "ExecuteTime": {
     "end_time": "2018-05-03T11:18:01.295572Z",
     "start_time": "2018-05-03T11:18:01.028856Z"
    },
    "hidden": true
   },
   "outputs": [],
   "source": [
    "add_datepart(train_x, 'date_recorded')"
   ]
  },
  {
   "cell_type": "code",
   "execution_count": 67,
   "metadata": {
    "ExecuteTime": {
     "end_time": "2018-05-03T11:18:02.970907Z",
     "start_time": "2018-05-03T11:18:02.083429Z"
    },
    "hidden": true
   },
   "outputs": [],
   "source": [
    "train_cats(train_x)"
   ]
  },
  {
   "cell_type": "code",
   "execution_count": 68,
   "metadata": {
    "ExecuteTime": {
     "end_time": "2018-05-03T11:18:04.909179Z",
     "start_time": "2018-05-03T11:18:04.898011Z"
    },
    "hidden": true
   },
   "outputs": [],
   "source": [
    "def func(data):\n",
    "    if data=='functional':\n",
    "        return 0\n",
    "    elif data=='non functional':\n",
    "        return 1 \n",
    "    elif data=='functional needs repair':\n",
    "        return 2"
   ]
  },
  {
   "cell_type": "code",
   "execution_count": 69,
   "metadata": {
    "ExecuteTime": {
     "end_time": "2018-05-03T11:18:05.609900Z",
     "start_time": "2018-05-03T11:18:05.565804Z"
    },
    "hidden": true
   },
   "outputs": [],
   "source": [
    "y = train_y.status_group.apply(func)"
   ]
  },
  {
   "cell_type": "code",
   "execution_count": 70,
   "metadata": {
    "ExecuteTime": {
     "end_time": "2018-05-03T11:18:06.212911Z",
     "start_time": "2018-05-03T11:18:06.201381Z"
    },
    "hidden": true
   },
   "outputs": [],
   "source": [
    "train_x['status_group'] = y"
   ]
  },
  {
   "cell_type": "code",
   "execution_count": 71,
   "metadata": {
    "ExecuteTime": {
     "end_time": "2018-05-03T11:18:08.687880Z",
     "start_time": "2018-05-03T11:18:08.489510Z"
    },
    "hidden": true
   },
   "outputs": [],
   "source": [
    "df,y,nas = proc_df(train_x,'status_group')"
   ]
  },
  {
   "cell_type": "code",
   "execution_count": 72,
   "metadata": {
    "ExecuteTime": {
     "end_time": "2018-05-03T11:18:09.433436Z",
     "start_time": "2018-05-03T11:18:09.426423Z"
    },
    "hidden": true
   },
   "outputs": [],
   "source": [
    "def split_vals(a,n):\n",
    "    return a[:n].copy(), a[n:].copy()"
   ]
  },
  {
   "cell_type": "code",
   "execution_count": 75,
   "metadata": {
    "ExecuteTime": {
     "end_time": "2018-05-03T11:26:57.670195Z",
     "start_time": "2018-05-03T11:26:57.621585Z"
    },
    "hidden": true
   },
   "outputs": [],
   "source": [
    "n_valid = 14850 # same as the size of test set\n",
    "n_trn = len(df)- n_valid\n",
    "x_train, x_test = split_vals(df,n_trn)\n",
    "y_train, y_test = split_vals(y, n_trn)"
   ]
  },
  {
   "cell_type": "markdown",
   "metadata": {
    "hidden": true
   },
   "source": [
    "d_train = xgb.DMatrix(x_train, y_train)\n",
    "d_valid = xgb.DMatrix(x_val, y_val)"
   ]
  },
  {
   "cell_type": "code",
   "execution_count": 76,
   "metadata": {
    "ExecuteTime": {
     "end_time": "2018-05-03T11:32:55.037772Z",
     "start_time": "2018-05-03T11:26:59.560707Z"
    },
    "hidden": true
   },
   "outputs": [
    {
     "name": "stdout",
     "output_type": "stream",
     "text": [
      "Wall time: 5min 42s\n"
     ]
    },
    {
     "name": "stderr",
     "output_type": "stream",
     "text": [
      "C:\\Users\\USER\\Anaconda2\\envs\\tf\\lib\\site-packages\\sklearn\\preprocessing\\label.py:151: DeprecationWarning: The truth value of an empty array is ambiguous. Returning False, but in future this will result in an error. Use `array.size > 0` to check that an array is not empty.\n",
      "  if diff:\n"
     ]
    }
   ],
   "source": [
    "model = xgb.XGBClassifier(n_estimators=300,max_depth=10,min_child_weight=4, gamma=0,subsample=0.8, colsample_bytree=0.8,objective= 'binary:logistic')\n",
    "%time train_model = model.fit(x_train, y_train)\n",
    "y_pred = train_model.predict(x_test)"
   ]
  },
  {
   "cell_type": "code",
   "execution_count": 77,
   "metadata": {
    "ExecuteTime": {
     "end_time": "2018-05-03T11:32:55.084933Z",
     "start_time": "2018-05-03T11:32:55.047786Z"
    },
    "hidden": true
   },
   "outputs": [],
   "source": [
    "w=[]\n",
    "for i in y_pred:\n",
    "    if(i==0):\n",
    "        w.append('functional')\n",
    "    elif(i==1):\n",
    "        w.append('non functional')\n",
    "    elif(i==2):\n",
    "        w.append('functional needs repair')"
   ]
  },
  {
   "cell_type": "code",
   "execution_count": 78,
   "metadata": {
    "ExecuteTime": {
     "end_time": "2018-05-03T11:32:55.476275Z",
     "start_time": "2018-05-03T11:32:55.091958Z"
    },
    "hidden": true
   },
   "outputs": [],
   "source": [
    "x_preds = pd.DataFrame(w)\n",
    "x_preds.columns = ['status_group']\n",
    "submid = test['id']\n",
    "xsub = pd.concat([submid, x_preds], axis=1)\n",
    "xsub.to_csv('submission_xgb.csv', index=False)"
   ]
  },
  {
   "cell_type": "markdown",
   "metadata": {},
   "source": [
    "## Plot Feature Importance Graph"
   ]
  },
  {
   "cell_type": "code",
   "execution_count": 56,
   "metadata": {
    "ExecuteTime": {
     "end_time": "2018-05-04T05:41:43.212978Z",
     "start_time": "2018-05-04T05:41:40.135757Z"
    }
   },
   "outputs": [
    {
     "data": {
      "text/plain": [
       "<matplotlib.axes._subplots.AxesSubplot at 0x2442ae6ee48>"
      ]
     },
     "execution_count": 56,
     "metadata": {},
     "output_type": "execute_result"
    },
    {
     "data": {
      "image/png": "[encoded data removed]",
      "text/plain": [
       "<matplotlib.figure.Figure at 0x2442ae7acc0>"
      ]
     },
     "metadata": {},
     "output_type": "display_data"
    }
   ],
   "source": [
    "from xgboost import plot_importance\n",
    "fig, ax = plt.subplots(1,1,figsize=(15,15))\n",
    "plot_importance(m,ax)"
   ]
  },
  {
   "cell_type": "code",
   "execution_count": 49,
   "metadata": {
    "ExecuteTime": {
     "end_time": "2018-05-04T05:31:43.872287Z",
     "start_time": "2018-05-04T05:31:43.523573Z"
    },
    "collapsed": true
   },
   "outputs": [
    {
     "ename": "AttributeError",
     "evalue": "'Booster' object has no attribute 'feature_importances_'",
     "output_type": "error",
     "traceback": [
      "\u001b[1;31m---------------------------------------------------------------------------\u001b[0m",
      "\u001b[1;31mAttributeError\u001b[0m                            Traceback (most recent call last)",
      "\u001b[1;32m<ipython-input-49-3fa28be69235>\u001b[0m in \u001b[0;36m<module>\u001b[1;34m()\u001b[0m\n\u001b[1;32m----> 1\u001b[1;33m \u001b[0mfeature_imp\u001b[0m \u001b[1;33m=\u001b[0m \u001b[0mrf_feat_importance\u001b[0m\u001b[1;33m(\u001b[0m\u001b[0mm\u001b[0m\u001b[1;33m,\u001b[0m \u001b[0mdf\u001b[0m\u001b[1;33m)\u001b[0m\u001b[1;33m\u001b[0m\u001b[0m\n\u001b[0m",
      "\u001b[1;32mE:\\Code\\Datadriven\\structured.py\u001b[0m in \u001b[0;36mrf_feat_importance\u001b[1;34m(m, df)\u001b[0m\n\u001b[0;32m    421\u001b[0m \u001b[1;33m\u001b[0m\u001b[0m\n\u001b[0;32m    422\u001b[0m \u001b[1;32mdef\u001b[0m \u001b[0mrf_feat_importance\u001b[0m\u001b[1;33m(\u001b[0m\u001b[0mm\u001b[0m\u001b[1;33m,\u001b[0m \u001b[0mdf\u001b[0m\u001b[1;33m)\u001b[0m\u001b[1;33m:\u001b[0m\u001b[1;33m\u001b[0m\u001b[0m\n\u001b[1;32m--> 423\u001b[1;33m     return pd.DataFrame({'cols':df.columns, 'imp':m.feature_importances_}\n\u001b[0m\u001b[0;32m    424\u001b[0m                        ).sort_values('imp', ascending=False)\n\u001b[0;32m    425\u001b[0m \u001b[1;33m\u001b[0m\u001b[0m\n",
      "\u001b[1;31mAttributeError\u001b[0m: 'Booster' object has no attribute 'feature_importances_'"
     ]
    }
   ],
   "source": [
    "feature_imp = rf_feat_importance(m, df_keep)"
   ]
  },
  {
   "cell_type": "code",
   "execution_count": 121,
   "metadata": {
    "ExecuteTime": {
     "end_time": "2018-05-03T15:28:27.125267Z",
     "start_time": "2018-05-03T15:28:26.314503Z"
    },
    "collapsed": true
   },
   "outputs": [
    {
     "data": {
      "text/plain": [
       "<matplotlib.axes._subplots.AxesSubplot at 0x1d00913fe80>"
      ]
     },
     "execution_count": 121,
     "metadata": {},
     "output_type": "execute_result"
    },
    {
     "data": {
      "image/png": "[encoded data removed]",
      "text/plain": [
       "<matplotlib.figure.Figure at 0x1d000727b70>"
      ]
     },
     "metadata": {},
     "output_type": "display_data"
    }
   ],
   "source": [
    "feature_imp.plot('cols', 'imp', figsize = (10, 6), legend = False)"
   ]
  },
  {
   "cell_type": "code",
   "execution_count": 122,
   "metadata": {
    "ExecuteTime": {
     "end_time": "2018-05-03T15:28:27.754988Z",
     "start_time": "2018-05-03T15:28:27.341836Z"
    }
   },
   "outputs": [],
   "source": [
    "def plot_fi(fi):\n",
    "    return fi.plot('cols', 'imp', 'barh', figsize=(12,10), legend = False)"
   ]
  },
  {
   "cell_type": "code",
   "execution_count": 123,
   "metadata": {
    "ExecuteTime": {
     "end_time": "2018-05-03T15:28:29.287227Z",
     "start_time": "2018-05-03T15:28:28.058881Z"
    },
    "collapsed": true
   },
   "outputs": [
    {
     "data": {
      "text/plain": [
       "<matplotlib.axes._subplots.AxesSubplot at 0x1d002db8ba8>"
      ]
     },
     "execution_count": 123,
     "metadata": {},
     "output_type": "execute_result"
    },
    {
     "data": {
      "image/png": "[encoded data removed]",
      "text/plain": [
       "<matplotlib.figure.Figure at 0x1d002daf7f0>"
      ]
     },
     "metadata": {},
     "output_type": "display_data"
    }
   ],
   "source": [
    "plot_fi(feature_imp)"
   ]
  },
  {
   "cell_type": "code",
   "execution_count": 124,
   "metadata": {
    "ExecuteTime": {
     "end_time": "2018-05-03T15:28:43.761037Z",
     "start_time": "2018-05-03T15:28:41.987089Z"
    },
    "scrolled": true
   },
   "outputs": [
    {
     "data": {
      "image/png": "[encoded data removed]",
      "text/plain": [
       "<matplotlib.figure.Figure at 0x1d00a2d5320>"
      ]
     },
     "metadata": {},
     "output_type": "display_data"
    }
   ],
   "source": [
    "corr = np.round(scipy.stats.spearmanr(df_keep).correlation, 4)\n",
    "corr_condensed = hc.distance.squareform(1-corr)\n",
    "z = hc.linkage(corr_condensed, method='average')\n",
    "fig = plt.figure(figsize=(16,10))\n",
    "dendrogram = hc.dendrogram(z, labels=df_keep.columns, orientation='left', leaf_font_size=16)\n",
    "plt.show()"
   ]
  },
  {
   "cell_type": "code",
   "execution_count": 125,
   "metadata": {
    "ExecuteTime": {
     "end_time": "2018-05-03T15:28:45.131784Z",
     "start_time": "2018-05-03T15:28:44.788826Z"
    }
   },
   "outputs": [],
   "source": [
    "from sklearn.metrics import confusion_matrix\n",
    "import seaborn as sns"
   ]
  },
  {
   "cell_type": "code",
   "execution_count": 126,
   "metadata": {
    "ExecuteTime": {
     "end_time": "2018-05-03T15:28:49.010852Z",
     "start_time": "2018-05-03T15:28:45.732180Z"
    }
   },
   "outputs": [
    {
     "data": {
      "image/png": "[encoded data removed]",
      "text/plain": [
       "<matplotlib.figure.Figure at 0x1d002c5cf28>"
      ]
     },
     "metadata": {},
     "output_type": "display_data"
    }
   ],
   "source": [
    "plt.subplots(figsize=(10,10))\n",
    "ax = sns.heatmap(corr,cmap=\"YlGnBu\")"
   ]
  },
  {
   "cell_type": "code",
   "execution_count": 127,
   "metadata": {
    "ExecuteTime": {
     "end_time": "2018-05-03T15:28:49.929919Z",
     "start_time": "2018-05-03T15:28:49.027401Z"
    }
   },
   "outputs": [],
   "source": [
    "def plot_confusion_matrix(cm, classes,\n",
    "                          normalize=False,\n",
    "                          title='Confusion matrix',\n",
    "                          cmap=plt.cm.Blues):\n",
    "    \"\"\"\n",
    "    This function prints and plots the confusion matrix.\n",
    "    Normalization can be applied by setting `normalize=True`.\n",
    "    \"\"\"\n",
    "    if normalize:\n",
    "        cm = cm.astype('float') / cm.sum(axis=1)[:, np.newaxis]\n",
    "        print(\"Normalized confusion matrix\")\n",
    "    else:\n",
    "        print('Confusion matrix, without normalization')\n",
    "\n",
    "    print(cm)\n",
    "\n",
    "    plt.imshow(cm, interpolation='nearest', cmap=cmap)\n",
    "    plt.title(title)\n",
    "    plt.colorbar()\n",
    "    tick_marks = np.arange(len(classes))\n",
    "    plt.xticks(tick_marks, classes, rotation=45)\n",
    "    plt.yticks(tick_marks, classes)\n",
    "\n",
    "    fmt = '.2f' if normalize else 'd'\n",
    "    thresh = cm.max() / 2.\n",
    "    for i, j in itertools.product(range(cm.shape[0]), range(cm.shape[1])):\n",
    "        plt.text(j, i, format(cm[i, j], fmt),\n",
    "                 horizontalalignment=\"center\",\n",
    "                 color=\"white\" if cm[i, j] > thresh else \"black\")\n",
    "\n",
    "    plt.tight_layout()\n",
    "    plt.ylabel('True label')\n",
    "    plt.xlabel('Predicted label')"
   ]
  },
  {
   "cell_type": "code",
   "execution_count": 129,
   "metadata": {
    "ExecuteTime": {
     "end_time": "2018-05-03T15:29:40.527348Z",
     "start_time": "2018-05-03T15:29:39.452743Z"
    }
   },
   "outputs": [
    {
     "name": "stdout",
     "output_type": "stream",
     "text": [
      "Confusion matrix, without normalization\n",
      "[[8861  744  147]\n",
      " [1581 5183   62]\n",
      " [ 742  188  342]]\n"
     ]
    },
    {
     "data": {
      "image/png": "[encoded data removed]",
      "text/plain": [
       "<matplotlib.figure.Figure at 0x1d07cca6208>"
      ]
     },
     "metadata": {},
     "output_type": "display_data"
    }
   ],
   "source": [
    "# Compute confusion matrix\n",
    "cnf_matrix = confusion_matrix(y_val, y_pred)\n",
    "np.set_printoptions(precision=2)\n",
    "class_names=['functional','non functional','functional needs repair']\n",
    "# Plot non-normalized confusion matrix\n",
    "plt.figure()\n",
    "plot_confusion_matrix(cnf_matrix, classes=class_names,\n",
    "                      title='Confusion matrix, without normalization')"
   ]
  },
  {
   "cell_type": "code",
   "execution_count": 130,
   "metadata": {
    "ExecuteTime": {
     "end_time": "2018-05-03T15:43:08.142182Z",
     "start_time": "2018-05-03T15:43:07.694934Z"
    }
   },
   "outputs": [
    {
     "data": {
      "text/plain": [
       "(59400, 53)"
      ]
     },
     "execution_count": 130,
     "metadata": {},
     "output_type": "execute_result"
    }
   ],
   "source": [
    "train_x.shape"
   ]
  },
  {
   "cell_type": "code",
   "execution_count": 135,
   "metadata": {
    "ExecuteTime": {
     "end_time": "2018-05-03T15:46:00.061204Z",
     "start_time": "2018-05-03T15:45:59.355731Z"
    }
   },
   "outputs": [
    {
     "data": {
      "text/plain": [
       "<matplotlib.axes._subplots.AxesSubplot at 0x1d07c94af60>"
      ]
     },
     "execution_count": 135,
     "metadata": {},
     "output_type": "execute_result"
    },
    {
     "data": {
      "image/png": "[encoded data removed]",
      "text/plain": [
       "<matplotlib.figure.Figure at 0x1d07cb00668>"
      ]
     },
     "metadata": {},
     "output_type": "display_data"
    }
   ],
   "source": [
    "cnt = train_x.status_group.value_counts()\n",
    "sns.barplot(cnt.index,cnt.values)"
   ]
  },
  {
   "cell_type": "code",
   "execution_count": 137,
   "metadata": {
    "ExecuteTime": {
     "end_time": "2018-05-03T15:55:01.128553Z",
     "start_time": "2018-05-03T15:55:00.045049Z"
    }
   },
   "outputs": [
    {
     "data": {
      "text/plain": [
       "<matplotlib.axes._subplots.AxesSubplot at 0x1d0038dc6d8>"
      ]
     },
     "execution_count": 137,
     "metadata": {},
     "output_type": "execute_result"
    },
    {
     "data": {
      "image/png": "[encoded data removed]",
      "text/plain": [
       "<matplotlib.figure.Figure at 0x1d003317828>"
      ]
     },
     "metadata": {},
     "output_type": "display_data"
    }
   ],
   "source": [
    "sns.countplot(x='date_recordedDay',data=train_x)"
   ]
  },
  {
   "cell_type": "code",
   "execution_count": null,
   "metadata": {
    "ExecuteTime": {
     "start_time": "2018-05-03T16:07:04.934Z"
    }
   },
   "outputs": [
    {
     "data": {
      "text/plain": [
       "<matplotlib.axes._subplots.AxesSubplot at 0x1d00a241dd8>"
      ]
     },
     "execution_count": 143,
     "metadata": {},
     "output_type": "execute_result"
    }
   ],
   "source": [
    "plt.subplots(figsize=(10,10))\n",
    "sns.countplot(x='latitude',data=train_x)"
   ]
  },
  {
   "cell_type": "code",
   "execution_count": 142,
   "metadata": {
    "ExecuteTime": {
     "end_time": "2018-05-03T16:03:03.355195Z",
     "start_time": "2018-05-03T16:03:02.960090Z"
    },
    "scrolled": false
   },
   "outputs": [
    {
     "data": {
      "text/plain": [
       "DWE                      17402\n",
       "Government                1825\n",
       "RWE                       1206\n",
       "Commu                     1060\n",
       "DANIDA                    1050\n",
       "KKKT                       898\n",
       "Hesawa                     840\n",
       "0                          777\n",
       "TCRS                       707\n",
       "Central government         622\n",
       "CES                        610\n",
       "Community                  553\n",
       "DANID                      552\n",
       "District Council           551\n",
       "HESAWA                     539\n",
       "LGA                        408\n",
       "World vision               408\n",
       "WEDECO                     397\n",
       "TASAF                      396\n",
       "District council           392\n",
       "Gover                      383\n",
       "AMREF                      329\n",
       "TWESA                      316\n",
       "WU                         301\n",
       "Dmdd                       287\n",
       "ACRA                       278\n",
       "World Vision               270\n",
       "SEMA                       249\n",
       "DW                         246\n",
       "OXFAM                      234\n",
       "                         ...  \n",
       "NDRDP                        1\n",
       "NGINIL                       1\n",
       "NGO                          1\n",
       "NGO'S                        1\n",
       "NJOONJOO                     1\n",
       "NMDC INDIA                   1\n",
       "Mwita Lucas                  1\n",
       "Mwanamisi Ally               1\n",
       "Mr Sau                       1\n",
       "Mwamvita Rajabu              1\n",
       "Mrish                        1\n",
       "Msagin                       1\n",
       "Msig                         1\n",
       "Msikitini                    1\n",
       "Msuba                        1\n",
       "Msudi                        1\n",
       "Mtewe                        1\n",
       "Mtwara Technician            1\n",
       "Mu                           1\n",
       "Muhindi                      1\n",
       "Muhochi Kissaka              1\n",
       "Mungaya                      1\n",
       "Municipal Council            1\n",
       "Muslimu Society(Shia)        1\n",
       "Muwaza                       1\n",
       "Mwakabalula                  1\n",
       "Mwalimu  Muhenza             1\n",
       "Mwalimu  Muhenzi             1\n",
       "Mwamama                      1\n",
       "Magani                       1\n",
       "Name: installer, Length: 2145, dtype: int64"
      ]
     },
     "execution_count": 142,
     "metadata": {},
     "output_type": "execute_result"
    }
   ],
   "source": [
    "train_x.installer.value_counts()"
   ]
  },
  {
   "cell_type": "code",
   "execution_count": null,
   "metadata": {},
   "outputs": [],
   "source": []
  }
 ],
 "metadata": {
  "kernelspec": {
   "display_name": "Python 3",
   "language": "python",
   "name": "python3"
  },
  "language_info": {
   "codemirror_mode": {
    "name": "ipython",
    "version": 3
   },
   "file_extension": ".py",
   "mimetype": "text/x-python",
   "name": "python",
   "nbconvert_exporter": "python",
   "pygments_lexer": "ipython3",
   "version": "3.6.4"
  },
  "notify_time": "30"
 },
 "nbformat": 4,
 "nbformat_minor": 2
}
