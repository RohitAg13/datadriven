{
 "cells": [
  {
   "cell_type": "code",
   "execution_count": 1,
   "metadata": {
    "ExecuteTime": {
     "end_time": "2018-06-09T07:08:38.561613Z",
     "start_time": "2018-06-09T07:08:28.053332Z"
    }
   },
   "outputs": [],
   "source": [
    "%load_ext autoreload\n",
    "%autoreload 2\n",
    "\n",
    "%matplotlib inline"
   ]
  },
  {
   "cell_type": "code",
   "execution_count": 4,
   "metadata": {
    "ExecuteTime": {
     "end_time": "2018-06-09T07:09:48.906880Z",
     "start_time": "2018-06-09T07:09:48.640971Z"
    }
   },
   "outputs": [],
   "source": [
    "from fastai.structured import *\n",
    "from fastai.column_data import *\n",
    "np.set_printoptions(threshold=50, edgeitems=20)"
   ]
  },
  {
   "cell_type": "code",
   "execution_count": 10,
   "metadata": {
    "ExecuteTime": {
     "end_time": "2018-06-09T07:10:38.458709Z",
     "start_time": "2018-06-09T07:10:38.132900Z"
    }
   },
   "outputs": [
    {
     "name": "stdout",
     "output_type": "stream",
     "text": [
      " Volume in drive E has no label.\n",
      " Volume Serial Number is 3AE1-9EE0\n",
      "\n",
      " Directory of E:\\Code\\Datadriven\\data\n",
      "\n",
      "03-05-2018  15:32    <DIR>          .\n",
      "03-05-2018  15:32    <DIR>          ..\n",
      "03-05-2018  15:34    <DIR>          .ipynb_checkpoints\n",
      "01-05-2018  10:19           324,512 SubmissionFormat.csv\n",
      "01-05-2018  10:19         5,016,337 testx.csv\n",
      "01-05-2018  10:19        20,069,199 trainx.csv\n",
      "01-05-2018  10:19         1,148,327 trainy.csv\n",
      "               4 File(s)     26,558,375 bytes\n",
      "               3 Dir(s)  275,238,252,544 bytes free\n"
     ]
    }
   ],
   "source": [
    "ls data"
   ]
  },
  {
   "cell_type": "code",
   "execution_count": 6,
   "metadata": {
    "ExecuteTime": {
     "end_time": "2018-06-09T07:09:57.525409Z",
     "start_time": "2018-06-09T07:09:57.193116Z"
    }
   },
   "outputs": [],
   "source": [
    "PATH = 'data/'"
   ]
  },
  {
   "cell_type": "code",
   "execution_count": 33,
   "metadata": {
    "ExecuteTime": {
     "end_time": "2018-06-09T07:22:35.852772Z",
     "start_time": "2018-06-09T07:22:34.412886Z"
    }
   },
   "outputs": [],
   "source": [
    "trainx = pd.read_csv(f'{PATH}trainx.csv')\n",
    "trainy = pd.read_csv(f'{PATH}trainy.csv')\n",
    "test = pd.read_csv(f'{PATH}testx.csv')"
   ]
  },
  {
   "cell_type": "code",
   "execution_count": 34,
   "metadata": {
    "ExecuteTime": {
     "end_time": "2018-06-09T07:22:55.927271Z",
     "start_time": "2018-06-09T07:22:55.513838Z"
    }
   },
   "outputs": [],
   "source": [
    "df_raw = pd.concat([trainx,test],axis=0)"
   ]
  },
  {
   "cell_type": "code",
   "execution_count": 35,
   "metadata": {
    "ExecuteTime": {
     "end_time": "2018-06-09T07:22:59.100790Z",
     "start_time": "2018-06-09T07:22:58.531418Z"
    }
   },
   "outputs": [],
   "source": [
    "add_datepart(df_raw, 'date_recorded')"
   ]
  },
  {
   "cell_type": "code",
   "execution_count": 36,
   "metadata": {
    "ExecuteTime": {
     "end_time": "2018-06-09T07:23:01.560161Z",
     "start_time": "2018-06-09T07:23:00.399767Z"
    }
   },
   "outputs": [],
   "source": [
    "train_cats(df_raw)"
   ]
  },
  {
   "cell_type": "code",
   "execution_count": 37,
   "metadata": {
    "ExecuteTime": {
     "end_time": "2018-06-09T07:23:07.332139Z",
     "start_time": "2018-06-09T07:23:07.033680Z"
    }
   },
   "outputs": [],
   "source": [
    "def func(data):\n",
    "    if data=='functional':\n",
    "        return 0\n",
    "    elif data=='non functional':\n",
    "        return 1 \n",
    "    elif data=='functional needs repair':\n",
    "        return 2"
   ]
  },
  {
   "cell_type": "code",
   "execution_count": 38,
   "metadata": {
    "ExecuteTime": {
     "end_time": "2018-06-09T07:23:14.149878Z",
     "start_time": "2018-06-09T07:23:13.822183Z"
    }
   },
   "outputs": [],
   "source": [
    "y = trainy.status_group.apply(func)"
   ]
  },
  {
   "cell_type": "code",
   "execution_count": 39,
   "metadata": {
    "ExecuteTime": {
     "end_time": "2018-06-09T07:23:18.494404Z",
     "start_time": "2018-06-09T07:23:18.183472Z"
    }
   },
   "outputs": [],
   "source": [
    "z = pd.DataFrame(np.zeros((14850,)))\n",
    "y = pd.concat([y,z],axis=0)"
   ]
  },
  {
   "cell_type": "code",
   "execution_count": 40,
   "metadata": {
    "ExecuteTime": {
     "end_time": "2018-06-09T07:23:23.681982Z",
     "start_time": "2018-06-09T07:23:23.372905Z"
    }
   },
   "outputs": [],
   "source": [
    "df_raw['status_group'] = y.astype(int)"
   ]
  },
  {
   "cell_type": "code",
   "execution_count": 41,
   "metadata": {
    "ExecuteTime": {
     "end_time": "2018-06-09T07:23:24.697410Z",
     "start_time": "2018-06-09T07:23:24.421348Z"
    }
   },
   "outputs": [
    {
     "data": {
      "text/plain": [
       "(74250, 53)"
      ]
     },
     "execution_count": 41,
     "metadata": {},
     "output_type": "execute_result"
    }
   ],
   "source": [
    "df_raw.shape"
   ]
  },
  {
   "cell_type": "code",
   "execution_count": 42,
   "metadata": {
    "ExecuteTime": {
     "end_time": "2018-06-09T07:24:20.329802Z",
     "start_time": "2018-06-09T07:24:20.026705Z"
    }
   },
   "outputs": [],
   "source": [
    "imp = ['quantity','longitude','latitude','waterpoint_type','id','wpt_name','subvillage','construction_year',\n",
    " 'gps_height','ward','funder','date_recordedElapsed','date_recordedDayofyear','extraction_type_class','population',\n",
    " 'date_recordedDay','amount_tsh','lga','installer', 'scheme_name','date_recordedDayofweek', 'payment','source',\n",
    " 'extraction_type','region','district_code','management','payment_type','region_code','status_group']"
   ]
  },
  {
   "cell_type": "code",
   "execution_count": 43,
   "metadata": {
    "ExecuteTime": {
     "end_time": "2018-06-09T07:24:21.780470Z",
     "start_time": "2018-06-09T07:24:21.490925Z"
    }
   },
   "outputs": [],
   "source": [
    "df_ = df_raw[imp]"
   ]
  },
  {
   "cell_type": "code",
   "execution_count": 112,
   "metadata": {
    "ExecuteTime": {
     "end_time": "2018-06-09T09:15:35.647782Z",
     "start_time": "2018-06-09T09:15:33.808363Z"
    }
   },
   "outputs": [
    {
     "name": "stderr",
     "output_type": "stream",
     "text": [
      "C:\\Users\\USER\\Anaconda2\\envs\\fastai-cpu\\lib\\site-packages\\ipykernel_launcher.py:2: SettingWithCopyWarning: \n",
      "A value is trying to be set on a copy of a slice from a DataFrame.\n",
      "Try using .loc[row_indexer,col_indexer] = value instead\n",
      "\n",
      "See the caveats in the documentation: http://pandas.pydata.org/pandas-docs/stable/indexing.html#indexing-view-versus-copy\n",
      "  \n"
     ]
    },
    {
     "data": {
      "text/plain": [
       "quantity                  category\n",
       "longitude                  float32\n",
       "latitude                   float32\n",
       "waterpoint_type           category\n",
       "id                         float32\n",
       "wpt_name                  category\n",
       "subvillage                category\n",
       "construction_year          float32\n",
       "gps_height                 float32\n",
       "ward                      category\n",
       "funder                    category\n",
       "date_recordedElapsed       float32\n",
       "date_recordedDayofyear     float32\n",
       "extraction_type_class     category\n",
       "population                 float32\n",
       "date_recordedDay           float32\n",
       "amount_tsh                 float32\n",
       "lga                       category\n",
       "installer                 category\n",
       "scheme_name               category\n",
       "date_recordedDayofweek     float32\n",
       "payment                   category\n",
       "source                    category\n",
       "extraction_type           category\n",
       "region                    category\n",
       "district_code              float32\n",
       "management                category\n",
       "payment_type              category\n",
       "region_code                float32\n",
       "status_group                 int32\n",
       "dtype: object"
      ]
     },
     "execution_count": 112,
     "metadata": {},
     "output_type": "execute_result"
    }
   ],
   "source": [
    "for v in contin_vars:\n",
    "    df_[v] = df_[v].astype('float32')\n",
    "df_.dtypes"
   ]
  },
  {
   "cell_type": "code",
   "execution_count": 113,
   "metadata": {
    "ExecuteTime": {
     "end_time": "2018-06-09T09:17:51.146496Z",
     "start_time": "2018-06-09T09:17:49.884956Z"
    }
   },
   "outputs": [
    {
     "name": "stderr",
     "output_type": "stream",
     "text": [
      "C:\\Users\\USER\\Anaconda2\\envs\\fastai-cpu\\lib\\site-packages\\fastai\\structured.py:425: SettingWithCopyWarning: \n",
      "A value is trying to be set on a copy of a slice from a DataFrame\n",
      "\n",
      "See the caveats in the documentation: http://pandas.pydata.org/pandas-docs/stable/indexing.html#indexing-view-versus-copy\n",
      "  df.drop(ignore_flds, axis=1, inplace=True)\n"
     ]
    }
   ],
   "source": [
    "df,y,nas,mapper = proc_df(df_,'status_group',do_scale=True)"
   ]
  },
  {
   "cell_type": "code",
   "execution_count": 114,
   "metadata": {
    "ExecuteTime": {
     "end_time": "2018-06-09T09:17:56.095970Z",
     "start_time": "2018-06-09T09:17:55.805586Z"
    }
   },
   "outputs": [
    {
     "data": {
      "text/plain": [
       "quantity                     int8\n",
       "longitude                 float64\n",
       "latitude                  float64\n",
       "waterpoint_type              int8\n",
       "id                        float64\n",
       "wpt_name                    int32\n",
       "subvillage                  int16\n",
       "construction_year         float64\n",
       "gps_height                float64\n",
       "ward                        int16\n",
       "funder                      int16\n",
       "date_recordedElapsed      float64\n",
       "date_recordedDayofyear    float64\n",
       "extraction_type_class        int8\n",
       "population                float64\n",
       "date_recordedDay          float64\n",
       "amount_tsh                float64\n",
       "lga                          int8\n",
       "installer                   int16\n",
       "scheme_name                 int16\n",
       "date_recordedDayofweek    float64\n",
       "payment                      int8\n",
       "source                       int8\n",
       "extraction_type              int8\n",
       "region                       int8\n",
       "district_code             float64\n",
       "management                   int8\n",
       "payment_type                 int8\n",
       "region_code               float64\n",
       "dtype: object"
      ]
     },
     "execution_count": 114,
     "metadata": {},
     "output_type": "execute_result"
    }
   ],
   "source": [
    "df.dtypes"
   ]
  },
  {
   "cell_type": "code",
   "execution_count": 64,
   "metadata": {
    "ExecuteTime": {
     "end_time": "2018-06-09T07:48:18.556537Z",
     "start_time": "2018-06-09T07:48:18.238512Z"
    }
   },
   "outputs": [
    {
     "name": "stdout",
     "output_type": "stream",
     "text": [
      "date_recordedElapsed\n",
      "date_recordedDayofyear\n",
      "date_recordedDay\n",
      "date_recordedDayofweek\n"
     ]
    }
   ],
   "source": [
    "cat_vars=[]\n",
    "contin_vars=[]\n",
    "for k in df:\n",
    "    try:\n",
    "        if trainx[k].dtype == trainx.region.dtype:\n",
    "            cat_vars.append(k)\n",
    "        elif trainx[k].dtype != trainx.region.dtype:\n",
    "            contin_vars.append(k)\n",
    "    except KeyError:\n",
    "        contin_vars.append(k)\n",
    "        print(k)\n",
    "        continue\n"
   ]
  },
  {
   "cell_type": "markdown",
   "metadata": {},
   "source": [
    "## Deep Learning"
   ]
  },
  {
   "cell_type": "code",
   "execution_count": 115,
   "metadata": {
    "ExecuteTime": {
     "end_time": "2018-06-09T09:18:35.973879Z",
     "start_time": "2018-06-09T09:18:35.683162Z"
    }
   },
   "outputs": [],
   "source": [
    "def split_vals(a,n):\n",
    "    return a[:n].copy(), a[n:].copy()"
   ]
  },
  {
   "cell_type": "code",
   "execution_count": 116,
   "metadata": {
    "ExecuteTime": {
     "end_time": "2018-06-09T09:18:36.694356Z",
     "start_time": "2018-06-09T09:18:36.388051Z"
    }
   },
   "outputs": [],
   "source": [
    "n_valid = 14850 # same as the size of test set\n",
    "n_trn = len(df)- n_valid\n",
    "x_train, x_test = split_vals(df,n_trn)\n",
    "y_train, y_test = split_vals(y, n_trn)"
   ]
  },
  {
   "cell_type": "code",
   "execution_count": null,
   "metadata": {
    "ExecuteTime": {
     "end_time": "2018-06-09T09:06:15.046078Z",
     "start_time": "2018-06-09T09:06:14.665644Z"
    }
   },
   "outputs": [],
   "source": []
  },
  {
   "cell_type": "code",
   "execution_count": 117,
   "metadata": {
    "ExecuteTime": {
     "end_time": "2018-06-09T09:18:39.557618Z",
     "start_time": "2018-06-09T09:18:39.245815Z"
    }
   },
   "outputs": [
    {
     "data": {
      "text/plain": [
       "quantity                     int8\n",
       "longitude                 float64\n",
       "latitude                  float64\n",
       "waterpoint_type              int8\n",
       "id                        float64\n",
       "wpt_name                    int32\n",
       "subvillage                  int16\n",
       "construction_year         float64\n",
       "gps_height                float64\n",
       "ward                        int16\n",
       "funder                      int16\n",
       "date_recordedElapsed      float64\n",
       "date_recordedDayofyear    float64\n",
       "extraction_type_class        int8\n",
       "population                float64\n",
       "date_recordedDay          float64\n",
       "amount_tsh                float64\n",
       "lga                          int8\n",
       "installer                   int16\n",
       "scheme_name                 int16\n",
       "date_recordedDayofweek    float64\n",
       "payment                      int8\n",
       "source                       int8\n",
       "extraction_type              int8\n",
       "region                       int8\n",
       "district_code             float64\n",
       "management                   int8\n",
       "payment_type                 int8\n",
       "region_code               float64\n",
       "dtype: object"
      ]
     },
     "execution_count": 117,
     "metadata": {},
     "output_type": "execute_result"
    }
   ],
   "source": [
    "x_train.dtypes"
   ]
  },
  {
   "cell_type": "code",
   "execution_count": 77,
   "metadata": {
    "ExecuteTime": {
     "end_time": "2018-06-09T08:17:55.275328Z",
     "start_time": "2018-06-09T08:17:54.948050Z"
    }
   },
   "outputs": [
    {
     "data": {
      "text/plain": [
       "11880"
      ]
     },
     "execution_count": 77,
     "metadata": {},
     "output_type": "execute_result"
    }
   ],
   "source": [
    "val_idx = get_cv_idxs(59400);len(idxs)"
   ]
  },
  {
   "cell_type": "code",
   "execution_count": 150,
   "metadata": {
    "ExecuteTime": {
     "end_time": "2018-06-09T12:06:27.661863Z",
     "start_time": "2018-06-09T12:06:27.247949Z"
    }
   },
   "outputs": [],
   "source": [
    "md = ColumnarModelData.from_data_frame(PATH, val_idx, x_train, y_train.astype(np.float32), cat_flds=cat_vars, bs=64)"
   ]
  },
  {
   "cell_type": "code",
   "execution_count": 119,
   "metadata": {
    "ExecuteTime": {
     "end_time": "2018-06-09T09:19:58.388744Z",
     "start_time": "2018-06-09T09:19:58.093519Z"
    }
   },
   "outputs": [
    {
     "data": {
      "text/plain": [
       "[('quantity', 6),\n",
       " ('waterpoint_type', 8),\n",
       " ('wpt_name', 37401),\n",
       " ('subvillage', 19288),\n",
       " ('ward', 2093),\n",
       " ('funder', 1898),\n",
       " ('extraction_type_class', 8),\n",
       " ('lga', 126),\n",
       " ('installer', 2146),\n",
       " ('scheme_name', 2697),\n",
       " ('payment', 8),\n",
       " ('source', 11),\n",
       " ('extraction_type', 19),\n",
       " ('region', 22),\n",
       " ('management', 13),\n",
       " ('payment_type', 8)]"
      ]
     },
     "execution_count": 119,
     "metadata": {},
     "output_type": "execute_result"
    }
   ],
   "source": [
    "cat_sz = [(c, len(trainx[c].cat.categories)+1) for c in cat_vars]\n",
    "cat_sz"
   ]
  },
  {
   "cell_type": "code",
   "execution_count": 120,
   "metadata": {
    "ExecuteTime": {
     "end_time": "2018-06-09T09:19:59.398839Z",
     "start_time": "2018-06-09T09:19:59.114387Z"
    }
   },
   "outputs": [
    {
     "data": {
      "text/plain": [
       "[(6, 3),\n",
       " (8, 4),\n",
       " (37401, 20),\n",
       " (19288, 20),\n",
       " (2093, 20),\n",
       " (1898, 20),\n",
       " (8, 4),\n",
       " (126, 20),\n",
       " (2146, 20),\n",
       " (2697, 20),\n",
       " (8, 4),\n",
       " (11, 6),\n",
       " (19, 10),\n",
       " (22, 11),\n",
       " (13, 7),\n",
       " (8, 4)]"
      ]
     },
     "execution_count": 120,
     "metadata": {},
     "output_type": "execute_result"
    }
   ],
   "source": [
    "emb_szs = [(c, min(20, (c+1)//2)) for _,c in cat_sz];emb_szs"
   ]
  },
  {
   "cell_type": "code",
   "execution_count": 151,
   "metadata": {
    "ExecuteTime": {
     "end_time": "2018-06-09T12:06:38.541531Z",
     "start_time": "2018-06-09T12:06:38.080748Z"
    }
   },
   "outputs": [],
   "source": [
    "y_range = (0, 3)\n",
    "m = md.get_learner(emb_szs, len(x_train.columns)-len(cat_vars),\n",
    "                   0.04, 1, [1000,500], [0.001,0.01], y_range=y_range)\n",
    "lr = 1e-3"
   ]
  },
  {
   "cell_type": "code",
   "execution_count": 152,
   "metadata": {
    "ExecuteTime": {
     "end_time": "2018-06-09T12:06:39.497399Z",
     "start_time": "2018-06-09T12:06:39.200938Z"
    }
   },
   "outputs": [],
   "source": [
    "def rmse(x,y):\n",
    "    return math.sqrt(((x-y)**2).mean())"
   ]
  },
  {
   "cell_type": "code",
   "execution_count": 154,
   "metadata": {
    "ExecuteTime": {
     "end_time": "2018-06-09T12:17:49.555861Z",
     "start_time": "2018-06-09T12:17:49.094679Z"
    }
   },
   "outputs": [
    {
     "data": {
      "text/plain": [
       "<bound method StructuredLearner.summary of MixedInputModel(\n",
       "  (embs): ModuleList(\n",
       "    (0): Embedding(6, 3)\n",
       "    (1): Embedding(8, 4)\n",
       "    (2): Embedding(37401, 20)\n",
       "    (3): Embedding(19288, 20)\n",
       "    (4): Embedding(2093, 20)\n",
       "    (5): Embedding(1898, 20)\n",
       "    (6): Embedding(8, 4)\n",
       "    (7): Embedding(126, 20)\n",
       "    (8): Embedding(2146, 20)\n",
       "    (9): Embedding(2697, 20)\n",
       "    (10): Embedding(8, 4)\n",
       "    (11): Embedding(11, 6)\n",
       "    (12): Embedding(19, 10)\n",
       "    (13): Embedding(22, 11)\n",
       "    (14): Embedding(13, 7)\n",
       "    (15): Embedding(8, 4)\n",
       "  )\n",
       "  (lins): ModuleList(\n",
       "    (0): Linear(in_features=206, out_features=1000, bias=True)\n",
       "    (1): Linear(in_features=1000, out_features=500, bias=True)\n",
       "  )\n",
       "  (bns): ModuleList(\n",
       "    (0): BatchNorm1d(1000, eps=1e-05, momentum=0.1, affine=True)\n",
       "    (1): BatchNorm1d(500, eps=1e-05, momentum=0.1, affine=True)\n",
       "  )\n",
       "  (outp): Linear(in_features=500, out_features=1, bias=True)\n",
       "  (emb_drop): Dropout(p=0.04)\n",
       "  (drops): ModuleList(\n",
       "    (0): Dropout(p=0.001)\n",
       "    (1): Dropout(p=0.01)\n",
       "  )\n",
       "  (bn): BatchNorm1d(13, eps=1e-05, momentum=0.1, affine=True)\n",
       ")>"
      ]
     },
     "execution_count": 154,
     "metadata": {},
     "output_type": "execute_result"
    }
   ],
   "source": [
    "m.summary"
   ]
  },
  {
   "cell_type": "code",
   "execution_count": 137,
   "metadata": {
    "ExecuteTime": {
     "end_time": "2018-06-09T09:58:36.331437Z",
     "start_time": "2018-06-09T09:58:35.692565Z"
    },
    "collapsed": true
   },
   "outputs": [
    {
     "data": {
      "text/plain": [
       "[\n",
       "      2      5  38056  ...      18      8      3\n",
       "      2      2  45684  ...       4      8      2\n",
       "      5      5  15690  ...      14      8      7\n",
       "         ...            ⋱           ...         \n",
       "      3      7  27531  ...       1      8      4\n",
       "      1      7   9800  ...      13      8      3\n",
       "      2      5  23128  ...      12      8      3\n",
       " [torch.LongTensor of size 128x16], \n",
       " -0.2700  0.4547 -0.3357  ...  -0.4808 -0.1690 -0.0723\n",
       "  0.2122 -0.7958  1.4012  ...  -1.5060 -0.4801 -0.2436\n",
       " -0.2105  1.0801 -1.2196  ...  -0.9934 -0.0652  0.2133\n",
       "           ...             ⋱             ...          \n",
       "  0.3893  0.8374  0.7064  ...   1.5696 -0.3764 -0.7576\n",
       "  0.6831 -1.8674 -1.4817  ...  -0.4808  5.9504  4.2684\n",
       "  0.5947 -0.5139 -0.8642  ...   0.5444 -0.3764 -0.5863\n",
       " [torch.FloatTensor of size 128x13], \n",
       "     0\n",
       "     0\n",
       "     0\n",
       "     1\n",
       "     1\n",
       "     2\n",
       "     0\n",
       "     2\n",
       "     2\n",
       "     0\n",
       "     0\n",
       "     0\n",
       "     1\n",
       "     1\n",
       "     0\n",
       "     0\n",
       "     0\n",
       "     0\n",
       "     1\n",
       "     1\n",
       "     2\n",
       "     1\n",
       "     1\n",
       "     0\n",
       "     1\n",
       "     2\n",
       "     0\n",
       "     1\n",
       "     1\n",
       "     0\n",
       "     0\n",
       "     0\n",
       "     0\n",
       "     1\n",
       "     1\n",
       "     1\n",
       "     1\n",
       "     1\n",
       "     1\n",
       "     0\n",
       "     1\n",
       "     0\n",
       "     0\n",
       "     0\n",
       "     2\n",
       "     1\n",
       "     1\n",
       "     1\n",
       "     1\n",
       "     2\n",
       "     0\n",
       "     2\n",
       "     2\n",
       "     0\n",
       "     0\n",
       "     0\n",
       "     0\n",
       "     1\n",
       "     0\n",
       "     1\n",
       "     0\n",
       "     1\n",
       "     0\n",
       "     0\n",
       "     0\n",
       "     1\n",
       "     0\n",
       "     0\n",
       "     0\n",
       "     1\n",
       "     1\n",
       "     2\n",
       "     1\n",
       "     0\n",
       "     1\n",
       "     0\n",
       "     0\n",
       "     1\n",
       "     1\n",
       "     0\n",
       "     2\n",
       "     0\n",
       "     1\n",
       "     1\n",
       "     0\n",
       "     0\n",
       "     0\n",
       "     0\n",
       "     1\n",
       "     0\n",
       "     2\n",
       "     0\n",
       "     1\n",
       "     1\n",
       "     0\n",
       "     1\n",
       "     0\n",
       "     0\n",
       "     0\n",
       "     0\n",
       "     1\n",
       "     1\n",
       "     0\n",
       "     1\n",
       "     0\n",
       "     0\n",
       "     1\n",
       "     2\n",
       "     1\n",
       "     0\n",
       "     1\n",
       "     0\n",
       "     0\n",
       "     1\n",
       "     1\n",
       "     0\n",
       "     0\n",
       "     1\n",
       "     0\n",
       "     1\n",
       "     0\n",
       "     0\n",
       "     0\n",
       "     0\n",
       "     1\n",
       "     1\n",
       "     1\n",
       "     0\n",
       " [torch.FloatTensor of size 128x1]]"
      ]
     },
     "execution_count": 137,
     "metadata": {},
     "output_type": "execute_result"
    }
   ],
   "source": [
    "next(iter(md.trn_dl))"
   ]
  },
  {
   "cell_type": "code",
   "execution_count": null,
   "metadata": {},
   "outputs": [],
   "source": []
  }
 ],
 "metadata": {
  "kernelspec": {
   "display_name": "Python 3",
   "language": "python",
   "name": "python3"
  },
  "language_info": {
   "codemirror_mode": {
    "name": "ipython",
    "version": 3
   },
   "file_extension": ".py",
   "mimetype": "text/x-python",
   "name": "python",
   "nbconvert_exporter": "python",
   "pygments_lexer": "ipython3",
   "version": "3.6.5"
  }
 },
 "nbformat": 4,
 "nbformat_minor": 2
}
